{
 "cells": [
  {
   "cell_type": "markdown",
   "metadata": {},
   "source": [
    "##### The University of Melbourne, School of Computing and Information Systems\n",
    "# COMP30027 Machine Learning, 2022 Semester 1\n",
    "\n",
    "## Assignment 2: Sentiment Classification of Tweets\n",
    "\n",
    "This is a sample code to assist you with vectorising the 'Train' dataset for your assignment 2.\n",
    "\n",
    "First we read the CSV datafiles (Train and Test)."
   ]
  },
  {
   "cell_type": "code",
   "execution_count": 148,
   "metadata": {},
   "outputs": [],
   "source": [
    "# import libraries\n",
    "import re\n",
    "import time\n",
    "import warnings\n",
    "\n",
    "import matplotlib.pyplot as plt\n",
    "import numpy as np\n",
    "import pandas as pd\n",
    "import seaborn as sns\n",
    "from sklearn.dummy import DummyClassifier\n",
    "from sklearn.ensemble import AdaBoostClassifier\n",
    "from sklearn.ensemble import BaggingClassifier\n",
    "from sklearn.ensemble import RandomForestClassifier\n",
    "from sklearn.ensemble import VotingClassifier\n",
    "from sklearn.feature_extraction.text import CountVectorizer\n",
    "from sklearn.feature_extraction.text import TfidfVectorizer\n",
    "from sklearn.feature_selection import SelectKBest, chi2\n",
    "from sklearn.linear_model import LogisticRegression, SGDClassifier\n",
    "from sklearn.metrics import accuracy_score, confusion_matrix\n",
    "from sklearn.metrics import classification_report\n",
    "from sklearn.model_selection import GridSearchCV\n",
    "from sklearn.model_selection import cross_val_score, train_test_split\n",
    "from sklearn.model_selection import validation_curve\n",
    "from sklearn.naive_bayes import MultinomialNB\n",
    "from sklearn.neighbors import KNeighborsClassifier\n",
    "from sklearn.svm import LinearSVC\n",
    "from sklearn.svm import SVC\n",
    "from sklearn.tree import DecisionTreeClassifier\n"
   ]
  },
  {
   "cell_type": "code",
   "execution_count": 149,
   "outputs": [],
   "source": [
    "# Ignore warnings because there seem to be a lot from numpy stuff\n",
    "warnings.filterwarnings('ignore')"
   ],
   "metadata": {
    "collapsed": false,
    "pycharm": {
     "name": "#%%\n"
    }
   }
  },
  {
   "cell_type": "code",
   "execution_count": 150,
   "outputs": [],
   "source": [
    "# read data from csv file\n",
    "train_data = pd.read_csv(\"Train.csv\", sep=',')\n",
    "test_data = pd.read_csv(\"Test.csv\", sep=',')"
   ],
   "metadata": {
    "collapsed": false,
    "pycharm": {
     "name": "#%%\n"
    }
   }
  },
  {
   "cell_type": "markdown",
   "source": [
    "### Text Preprocessing"
   ],
   "metadata": {
    "collapsed": false
   }
  },
  {
   "cell_type": "code",
   "execution_count": 151,
   "outputs": [
    {
     "name": "stdout",
     "output_type": "stream",
     "text": [
      "test length: 6099\n"
     ]
    }
   ],
   "source": [
    "def preprocess(text: str) -> str:\n",
    "    replacements = {\n",
    "        # Replace links wih URL\n",
    "        r'(http\\S+)': 'URL',\n",
    "\n",
    "        # Replace @'s with USERNAME\n",
    "        r'@[A-Za-z0-9]+': 'USERNAME',\n",
    "\n",
    "        # Replace characters repeated more than with two of the characters\n",
    "        r'([a-zA-Z])(\\1{2,})': '\\\\1\\\\1',\n",
    "\n",
    "        # Remove incorrectly encoded emojis.\n",
    "        r'...': '',\n",
    "\n",
    "        '[0-9]+': '',\n",
    "    }\n",
    "    for original, replace in replacements.items():\n",
    "        text = re.sub(original, replace, text)\n",
    "    return text\n",
    "\n",
    "\n",
    "# data cleaning\n",
    "\n",
    "x_test_raw = test_data['text'].apply(preprocess)\n",
    "x_test_raw = x_test_raw.apply(preprocess)\n",
    "\n",
    "#check the result\n",
    "print(\"test length:\", len(x_test_raw))"
   ],
   "metadata": {
    "collapsed": false,
    "pycharm": {
     "name": "#%%\n"
    }
   }
  },
  {
   "cell_type": "code",
   "execution_count": 152,
   "outputs": [],
   "source": [
    "# separating instance and label for Train\n",
    "x_train_raw = train_data.text\n",
    "y_train_raw = train_data.sentiment"
   ],
   "metadata": {
    "collapsed": false,
    "pycharm": {
     "name": "#%%\n"
    }
   }
  },
  {
   "cell_type": "markdown",
   "metadata": {},
   "source": [
    "### Training test splitting"
   ]
  },
  {
   "cell_type": "code",
   "execution_count": 153,
   "metadata": {},
   "outputs": [],
   "source": [
    "# hold out with test size 0.3\n",
    "x_train, x_test, y_train, y_test = train_test_split(x_train_raw, y_train_raw,\n",
    "                                                    test_size=0.3,\n",
    "                                                    random_state=30)"
   ]
  },
  {
   "cell_type": "code",
   "execution_count": 154,
   "metadata": {},
   "outputs": [],
   "source": [
    "# BoW applied on testing data, training data and develop data\n",
    "bow_vectorizer = CountVectorizer()\n",
    "x_train_bow_raw = bow_vectorizer.fit_transform(x_train_raw)\n",
    "x_test_bow_raw = bow_vectorizer.transform(x_test_raw)\n",
    "x_train_bow = bow_vectorizer.fit_transform(x_train)\n",
    "x_test_bow = bow_vectorizer.transform(x_test)"
   ]
  },
  {
   "cell_type": "code",
   "execution_count": 155,
   "metadata": {},
   "outputs": [
    {
     "name": "stdout",
     "output_type": "stream",
     "text": [
      "Accuracy:0.5882892524078887 Time: 0.00983285903930664\n",
      "Accuracy:0.6595321816236049 Time: 0.04944157600402832\n",
      "Accuracy:0.6280385262192325 Time: 2.365900993347168\n",
      "Accuracy:0.5730010701727565 Time: 6.826035976409912\n",
      "Accuracy:0.5442592875707079 Time: 0.01828479766845703\n",
      "Accuracy:0.6619782907812262 Time: 7.975731134414673\n"
     ]
    }
   ],
   "source": [
    "# fit into linear models\n",
    "models = [DummyClassifier(strategy='most_frequent'),\n",
    "          MultinomialNB(),\n",
    "          LinearSVC(),\n",
    "          DecisionTreeClassifier(),\n",
    "          KNeighborsClassifier(),\n",
    "          LogisticRegression(max_iter=1000)]\n",
    "\n",
    "for model in models:\n",
    "    start = time.time()\n",
    "    model.fit(x_train_bow, y_train)\n",
    "    end = time.time()\n",
    "    t = end - start\n",
    "    acc = model.score(x_test_bow, y_test)\n",
    "    print(f\"Accuracy:{acc} Time: {t}\")"
   ]
  },
  {
   "cell_type": "markdown",
   "metadata": {},
   "source": [
    "### Feature selecting"
   ]
  },
  {
   "cell_type": "code",
   "execution_count": 156,
   "metadata": {},
   "outputs": [],
   "source": [
    "# Tfidf Vectorizer\n",
    "tfidf_vectorizer = TfidfVectorizer()\n",
    "tf_x_train = tfidf_vectorizer.fit_transform(x_train)\n",
    "tf_x_test = tfidf_vectorizer.transform(x_test)"
   ]
  },
  {
   "cell_type": "code",
   "execution_count": 157,
   "outputs": [
    {
     "name": "stdout",
     "output_type": "stream",
     "text": [
      "accuracy for C=0.01: 0.5882892524078887\n",
      "accuracy for C=0.05: 0.6051062528665342\n",
      "accuracy for C=0.25: 0.6509707995719309\n",
      "accuracy for C=0.5: 0.6667176272741171\n",
      "accuracy for C=1: 0.6758905366151965\n"
     ]
    }
   ],
   "source": [
    "\n",
    "for c in [0.01, 0.05, 0.25, 0.5, 1]:\n",
    "    lr = LogisticRegression(C=c, max_iter=1000)\n",
    "    lr.fit(tf_x_train, y_train)\n",
    "    print(\n",
    "        f\"accuracy for C={c}: {accuracy_score(y_test, lr.predict(tf_x_test))}\")"
   ],
   "metadata": {
    "collapsed": false,
    "pycharm": {
     "name": "#%%\n"
    }
   }
  },
  {
   "cell_type": "code",
   "execution_count": 158,
   "outputs": [
    {
     "name": "stdout",
     "output_type": "stream",
     "text": [
      "0.5966977526372115\n"
     ]
    }
   ],
   "source": [
    "print(MultinomialNB().fit(tf_x_train, y_train).score(tf_x_test, y_test))"
   ],
   "metadata": {
    "collapsed": false,
    "pycharm": {
     "name": "#%%\n"
    }
   }
  },
  {
   "cell_type": "code",
   "execution_count": 159,
   "outputs": [
    {
     "name": "stdout",
     "output_type": "stream",
     "text": [
      "0.663812872649442\n"
     ]
    }
   ],
   "source": [
    "\n",
    "clf = LinearSVC(random_state=0)\n",
    "clf.fit(tf_x_train, y_train)\n",
    "print(clf.score(tf_x_test, y_test))\n"
   ],
   "metadata": {
    "collapsed": false,
    "pycharm": {
     "name": "#%%\n"
    }
   }
  },
  {
   "cell_type": "code",
   "execution_count": 160,
   "metadata": {
    "scrolled": true
   },
   "outputs": [],
   "source": [
    "tfidf_vectorizer = TfidfVectorizer()\n",
    "tf_x_train_raw = tfidf_vectorizer.fit_transform(x_train_raw)\n",
    "tf_x_test_raw = tfidf_vectorizer.transform(x_test_raw)"
   ]
  },
  {
   "cell_type": "code",
   "execution_count": 161,
   "outputs": [],
   "source": [
    "model_lr = LogisticRegression(multi_class='ovr')\n",
    "model_lr.fit(tf_x_train_raw, y_train_raw)\n",
    "\n",
    "prediction = model_lr.predict(tf_x_test_raw)\n",
    "pre = pd.DataFrame(prediction, columns=['sentiment'], index=test_data.id)\n",
    "pre.index.name = 'id'\n",
    "pre.to_csv(r\"tfidf_prediction_cv.csv\")"
   ],
   "metadata": {
    "collapsed": false,
    "pycharm": {
     "name": "#%%\n"
    }
   }
  },
  {
   "cell_type": "code",
   "execution_count": 162,
   "metadata": {},
   "outputs": [
    {
     "name": "stdout",
     "output_type": "stream",
     "text": [
      "0.6104571166488304\n",
      "0.672374254701116\n",
      "0.6658003363400091\n"
     ]
    }
   ],
   "source": [
    "# apply k best on tfidf\n",
    "kbest = SelectKBest(chi2, k=500).fit(tf_x_train, y_train)\n",
    "kbest_train_x = kbest.transform(tf_x_train)\n",
    "kbest_test_x = kbest.transform(tf_x_test)\n",
    "\n",
    "mnb = MultinomialNB().fit(kbest_train_x, y_train)\n",
    "print(mnb.score(kbest_test_x, y_test))\n",
    "\n",
    "clf = LinearSVC(random_state=0)\n",
    "clf.fit(kbest_train_x, y_train)\n",
    "print(clf.score(kbest_test_x, y_test))\n",
    "\n",
    "final_tfidf = LogisticRegression(C=1, max_iter=1000)\n",
    "final_tfidf.fit(kbest_train_x, y_train)\n",
    "print(final_tfidf.score(kbest_test_x, y_test))"
   ]
  },
  {
   "cell_type": "code",
   "execution_count": 163,
   "metadata": {
    "scrolled": true
   },
   "outputs": [],
   "source": [
    "# save the created vocabulary for the given dataset in a separate file\n",
    "vocab_dict = bow_vectorizer.vocabulary_\n",
    "output_pd = pd.DataFrame(list(vocab_dict.items()), columns=['word', 'count'])\n",
    "output_pd.T.to_csv('BoW-vocab.csv', index=False)"
   ]
  },
  {
   "cell_type": "code",
   "execution_count": 164,
   "metadata": {},
   "outputs": [],
   "source": [
    "# apply k best on BoW \n",
    "kbest = SelectKBest(chi2, k=500).fit(x_train_bow_raw, y_train_raw)\n",
    "kbest_train_x_500 = kbest.transform(x_train_bow_raw)\n",
    "kbest_test_x_500 = kbest.transform(x_test_bow_raw)\n",
    "\n",
    "# training dataset\n",
    "kbest = SelectKBest(chi2, k=700).fit(x_train_bow, y_train)\n",
    "kbest_train_x_700 = kbest.transform(x_train_bow)\n",
    "kbest_test_x_700 = kbest.transform(x_test_bow)\n",
    "\n",
    "train_tuple = (kbest_train_x_700, y_train)\n",
    "test_tuple = (kbest_test_x_700, y_test)"
   ]
  },
  {
   "cell_type": "markdown",
   "metadata": {},
   "source": [
    "### Model Adapting"
   ]
  },
  {
   "cell_type": "code",
   "execution_count": 165,
   "metadata": {},
   "outputs": [
    {
     "name": "stdout",
     "output_type": "stream",
     "text": [
      "LinearSVC(max_iter=5000) train accuracy: 0.6842936225837662 time: 82.16315698623657\n",
      "LinearSVC(max_iter=5000) test accuracy: 0.6606017378981128 time: 15.616106033325195\n",
      "DecisionTreeClassifier() train accuracy: 0.5606424934640748 time: 28.13070297241211\n",
      "DecisionTreeClassifier() test accuracy: 0.5412023569776984 time: 7.20619010925293\n",
      "KNeighborsClassifier() train accuracy: 0.5794503475534025 time: 8.285599946975708\n",
      "KNeighborsClassifier() test accuracy: 0.578353192362199 time: 1.7993159294128418\n",
      "LogisticRegression(max_iter=1000) train accuracy: 0.6835069098968661 time: 23.7684109210968\n",
      "LogisticRegression(max_iter=1000) test accuracy: 0.6616734728127097 time: 8.893524885177612\n"
     ]
    }
   ],
   "source": [
    "# Use 20 fold cross validation with models\n",
    "models = [LinearSVC(max_iter=5000),\n",
    "          DecisionTreeClassifier(),\n",
    "          KNeighborsClassifier(),\n",
    "          LogisticRegression(max_iter=1000)]\n",
    "\n",
    "for model in models:\n",
    "    start = time.time()\n",
    "    acc = np.mean(cross_val_score(model, *train_tuple, cv=20))\n",
    "    end = time.time()\n",
    "    t = end - start\n",
    "    print(f\"{model} train accuracy: {acc} time: {t}\")\n",
    "\n",
    "    start = time.time()\n",
    "    acc = np.mean(cross_val_score(model, *test_tuple, cv=20))\n",
    "    end = time.time()\n",
    "    t = end - start\n",
    "    print(f\"{model} test accuracy: {acc} time: {t}\")"
   ]
  },
  {
   "cell_type": "markdown",
   "source": [
    "# Parameter Tuning"
   ],
   "metadata": {
    "collapsed": false,
    "pycharm": {
     "name": "#%% md\n"
    }
   }
  },
  {
   "cell_type": "code",
   "execution_count": 166,
   "outputs": [],
   "source": [
    "# Graphing helper to graph SVC accuracies for different values of C.\n",
    "def val_curve(param_range, train_scores, valid_scores, model):\n",
    "    mean_train_scores = np.mean(train_scores, axis=1)\n",
    "    std_train_scores = np.std(train_scores, axis=1)\n",
    "    mean_valid_scores = np.mean(valid_scores, axis=1)\n",
    "    std_valid_scores = np.std(valid_scores, axis=1)\n",
    "    plt.semilogx(param_range,\n",
    "                 mean_train_scores,\n",
    "                 label=\"Training score\",\n",
    "                 color='red')\n",
    "    plt.fill_between(param_range,\n",
    "                     mean_train_scores - std_train_scores,\n",
    "                     mean_train_scores + std_train_scores,\n",
    "                     alpha=0.2,\n",
    "                     color=\"red\")\n",
    "\n",
    "    plt.semilogx(param_range,\n",
    "                 mean_valid_scores,\n",
    "                 label=\"cross validation score\",\n",
    "                 color='blue')\n",
    "    plt.fill_between(param_range,\n",
    "                     mean_valid_scores - std_valid_scores,\n",
    "                     mean_valid_scores + std_valid_scores,\n",
    "                     alpha=0.2,\n",
    "                     color=\"blue\")\n",
    "\n",
    "    plt.legend(loc='best')\n",
    "    plt.title(f\"Validation curve for hyperparameter C in {model}\")\n",
    "    plt.xlabel(\"C in log scale\")\n",
    "    plt.ylabel(\"Accuracy\")\n",
    "    plt.show()\n",
    "    print(\n",
    "        f\"best value for C in {model} is {param_range[mean_valid_scores.argmax()]}\")"
   ],
   "metadata": {
    "collapsed": false,
    "pycharm": {
     "name": "#%%\n"
    }
   }
  },
  {
   "cell_type": "markdown",
   "source": [
    "## LinearSVC"
   ],
   "metadata": {
    "collapsed": false,
    "pycharm": {
     "name": "#%% md\n"
    }
   }
  },
  {
   "cell_type": "code",
   "execution_count": 167,
   "metadata": {},
   "outputs": [
    {
     "name": "stderr",
     "output_type": "stream",
     "text": [
      "[Parallel(n_jobs=-1)]: Using backend LokyBackend with 16 concurrent workers.\n",
      "[Parallel(n_jobs=-1)]: Done   3 out of  50 | elapsed:    5.6s remaining:  1.4min\n",
      "[Parallel(n_jobs=-1)]: Done   9 out of  50 | elapsed:    9.3s remaining:   42.3s\n",
      "[Parallel(n_jobs=-1)]: Done  15 out of  50 | elapsed:   23.5s remaining:   54.8s\n",
      "[Parallel(n_jobs=-1)]: Done  21 out of  50 | elapsed:   34.9s remaining:   48.2s\n",
      "[Parallel(n_jobs=-1)]: Done  27 out of  50 | elapsed:  1.3min remaining:  1.1min\n",
      "[Parallel(n_jobs=-1)]: Done  33 out of  50 | elapsed:  1.4min remaining:   43.6s\n",
      "[Parallel(n_jobs=-1)]: Done  39 out of  50 | elapsed:  1.5min remaining:   25.9s\n",
      "[Parallel(n_jobs=-1)]: Done  45 out of  50 | elapsed:  1.7min remaining:   11.5s\n",
      "[Parallel(n_jobs=-1)]: Done  50 out of  50 | elapsed:  1.8min finished\n"
     ]
    }
   ],
   "source": [
    "param_range = np.logspace(-2, 2, 10)\n",
    "train_scores, valid_scores = validation_curve(LinearSVC(max_iter=5000),\n",
    "                                              *train_tuple,\n",
    "                                              param_name='C',\n",
    "                                              param_range=param_range,\n",
    "                                              cv=5,\n",
    "                                              n_jobs=-1,\n",
    "                                              verbose=10)"
   ]
  },
  {
   "cell_type": "code",
   "execution_count": 168,
   "metadata": {},
   "outputs": [
    {
     "data": {
      "text/plain": "<Figure size 432x288 with 1 Axes>",
      "image/png": "[encoded data removed]"
     },
     "metadata": {
      "needs_background": "light"
     },
     "output_type": "display_data"
    },
    {
     "name": "stdout",
     "output_type": "stream",
     "text": [
      "best value for C in LinearSVC() is 100.0\n"
     ]
    }
   ],
   "source": [
    "val_curve(param_range, train_scores, valid_scores, LinearSVC())"
   ]
  },
  {
   "cell_type": "markdown",
   "source": [
    "## rbf SVC"
   ],
   "metadata": {
    "collapsed": false,
    "pycharm": {
     "name": "#%% md\n"
    }
   }
  },
  {
   "cell_type": "code",
   "execution_count": 169,
   "outputs": [
    {
     "name": "stdout",
     "output_type": "stream",
     "text": [
      "{'C': 1000, 'gamma': 0.001, 'kernel': 'rbf'}\n",
      "0.6785924906624731\n",
      "0.7293755324028569\n",
      "0.6630484635376853\n",
      "              precision    recall  f1-score   support\n",
      "\n",
      "    negative       0.76      0.46      0.57      2616\n",
      "     neutral       0.71      0.90      0.80      8811\n",
      "    positive       0.77      0.52      0.62      3834\n",
      "\n",
      "    accuracy                           0.73     15261\n",
      "   macro avg       0.75      0.63      0.66     15261\n",
      "weighted avg       0.74      0.73      0.71     15261\n",
      "\n"
     ]
    }
   ],
   "source": [
    "parameters = {\n",
    "    'kernel': ['rbf'],\n",
    "    'gamma': [1e-2, 1e-3, 1e-4],\n",
    "    \"C\": [10, 100, 1000, 10000],\n",
    "}\n",
    "\n",
    "grd = GridSearchCV(estimator=SVC(), param_grid=parameters, n_jobs=-1, cv=3)\n",
    "\n",
    "grd.fit(*train_tuple)\n",
    "print(grd.best_params_)\n",
    "print(grd.best_score_)\n",
    "print(grd.score(*train_tuple))\n",
    "print(grd.score(*test_tuple))\n",
    "print(classification_report(y_train, grd.predict(kbest_train_x_700)))"
   ],
   "metadata": {
    "collapsed": false,
    "pycharm": {
     "name": "#%%\n"
    }
   }
  },
  {
   "cell_type": "code",
   "execution_count": 170,
   "outputs": [
    {
     "name": "stderr",
     "output_type": "stream",
     "text": [
      "[Parallel(n_jobs=-1)]: Using backend LokyBackend with 16 concurrent workers.\n",
      "[Parallel(n_jobs=-1)]: Done   3 out of  30 | elapsed:   39.1s remaining:  5.9min\n",
      "[Parallel(n_jobs=-1)]: Done   7 out of  30 | elapsed:   40.7s remaining:  2.2min\n",
      "[Parallel(n_jobs=-1)]: Done  11 out of  30 | elapsed:   42.5s remaining:  1.2min\n",
      "[Parallel(n_jobs=-1)]: Done  15 out of  30 | elapsed:   42.7s remaining:   42.7s\n",
      "[Parallel(n_jobs=-1)]: Done  19 out of  30 | elapsed:  1.2min remaining:   42.9s\n",
      "[Parallel(n_jobs=-1)]: Done  23 out of  30 | elapsed:  1.3min remaining:   23.2s\n",
      "[Parallel(n_jobs=-1)]: Done  27 out of  30 | elapsed:  1.3min remaining:    8.6s\n",
      "[Parallel(n_jobs=-1)]: Done  30 out of  30 | elapsed:  1.3min finished\n"
     ]
    }
   ],
   "source": [
    "param_range = np.logspace(-2, 3, 10)\n",
    "train_scores_rbf, valid_scores_rbf = validation_curve(\n",
    "    SVC(max_iter=10000, kernel=\"rbf\", gamma=0.001),\n",
    "    kbest_train_x_700,\n",
    "    y_train,\n",
    "    param_name='C',\n",
    "    param_range=param_range,\n",
    "    cv=3,\n",
    "    n_jobs=-1,\n",
    "    verbose=10)\n"
   ],
   "metadata": {
    "collapsed": false,
    "pycharm": {
     "name": "#%%\n"
    }
   }
  },
  {
   "cell_type": "code",
   "execution_count": 171,
   "outputs": [
    {
     "data": {
      "text/plain": "<Figure size 432x288 with 1 Axes>",
      "image/png": "[encoded data removed]"
     },
     "metadata": {
      "needs_background": "light"
     },
     "output_type": "display_data"
    },
    {
     "name": "stdout",
     "output_type": "stream",
     "text": [
      "best value for C in SVC(gamma=0.001, max_iter=10000) is 278.2559402207126\n"
     ]
    }
   ],
   "source": [
    "val_curve(param_range, train_scores_rbf, valid_scores_rbf,\n",
    "          SVC(max_iter=10000, kernel=\"rbf\", gamma=0.001))"
   ],
   "metadata": {
    "collapsed": false,
    "pycharm": {
     "name": "#%%\n"
    }
   }
  },
  {
   "cell_type": "markdown",
   "source": [
    "# Random Forest"
   ],
   "metadata": {
    "collapsed": false,
    "pycharm": {
     "name": "#%% md\n"
    }
   }
  },
  {
   "cell_type": "code",
   "execution_count": 172,
   "outputs": [],
   "source": [
    "# Random Forests\n",
    "\n",
    "parameters = {\n",
    "    \"n_estimators\": [10, 25, 50, 75, 100, 150, 200],\n",
    "    \"max_depth\": [10, 25, 50, 75, 100, 150, 200],\n",
    "    \"criterion\": [\"entropy\", \"gini\"],\n",
    "}\n",
    "\n",
    "random_forest = GridSearchCV(\n",
    "    estimator=RandomForestClassifier(random_state=1, n_jobs=-1),\n",
    "    param_grid=parameters,\n",
    "    n_jobs=-1,\n",
    "    cv=3\n",
    ")"
   ],
   "metadata": {
    "collapsed": false,
    "pycharm": {
     "name": "#%%\n"
    }
   }
  },
  {
   "cell_type": "code",
   "execution_count": 173,
   "outputs": [
    {
     "name": "stdout",
     "output_type": "stream",
     "text": [
      "{'C': 1000, 'gamma': 0.001, 'kernel': 'rbf'}\n",
      "0.7293755324028569\n",
      "0.6630484635376853\n",
      "              precision    recall  f1-score   support\n",
      "\n",
      "    negative       0.55      0.32      0.41      1099\n",
      "     neutral       0.68      0.85      0.75      3848\n",
      "    positive       0.68      0.44      0.54      1594\n",
      "\n",
      "    accuracy                           0.66      6541\n",
      "   macro avg       0.63      0.54      0.57      6541\n",
      "weighted avg       0.65      0.66      0.64      6541\n",
      "\n"
     ]
    }
   ],
   "source": [
    "grd.fit(*train_tuple)\n",
    "print(grd.best_params_)\n",
    "print(grd.score(*train_tuple))\n",
    "print(grd.score(*test_tuple))\n",
    "print(classification_report(y_test, grd.predict(kbest_test_x_700)))"
   ],
   "metadata": {
    "collapsed": false,
    "pycharm": {
     "name": "#%%\n"
    }
   }
  },
  {
   "cell_type": "code",
   "execution_count": 174,
   "outputs": [
    {
     "name": "stderr",
     "output_type": "stream",
     "text": [
      "[Parallel(n_jobs=-1)]: Using backend ThreadingBackend with 16 concurrent workers.\n",
      "[Parallel(n_jobs=-1)]: Done  18 tasks      | elapsed:    0.5s\n",
      "[Parallel(n_jobs=-1)]: Done 100 out of 100 | elapsed:    1.4s finished\n",
      "[Parallel(n_jobs=16)]: Using backend ThreadingBackend with 16 concurrent workers.\n",
      "[Parallel(n_jobs=16)]: Done  18 tasks      | elapsed:    0.0s\n",
      "[Parallel(n_jobs=16)]: Done 100 out of 100 | elapsed:    0.1s finished\n",
      "[Parallel(n_jobs=16)]: Using backend ThreadingBackend with 16 concurrent workers.\n",
      "[Parallel(n_jobs=16)]: Done  18 tasks      | elapsed:    0.0s\n"
     ]
    },
    {
     "name": "stdout",
     "output_type": "stream",
     "text": [
      "0.9631741039250377\n",
      "0.6471487540131479\n"
     ]
    },
    {
     "name": "stderr",
     "output_type": "stream",
     "text": [
      "[Parallel(n_jobs=16)]: Done 100 out of 100 | elapsed:    0.1s finished\n",
      "[Parallel(n_jobs=16)]: Using backend ThreadingBackend with 16 concurrent workers.\n",
      "[Parallel(n_jobs=16)]: Done  18 tasks      | elapsed:    0.0s\n",
      "[Parallel(n_jobs=16)]: Done 100 out of 100 | elapsed:    0.1s finished\n"
     ]
    },
    {
     "name": "stdout",
     "output_type": "stream",
     "text": [
      "[[ 201  844   54]\n",
      " [ 123 3401  324]\n",
      " [  11  952  631]]\n"
     ]
    },
    {
     "data": {
      "text/plain": "Text(33.0, 0.5, 'Actual classes')"
     },
     "execution_count": 174,
     "metadata": {},
     "output_type": "execute_result"
    },
    {
     "data": {
      "text/plain": "<Figure size 432x288 with 2 Axes>",
      "image/png": "[encoded data removed]"
     },
     "metadata": {
      "needs_background": "light"
     },
     "output_type": "display_data"
    }
   ],
   "source": [
    "#random forest\n",
    "rf = RandomForestClassifier(n_jobs=-1, n_estimators=100, verbose=1,\n",
    "                            max_depth=150).fit(\n",
    "    *train_tuple)\n",
    "print(rf.score(*train_tuple))\n",
    "print(rf.score(*test_tuple))\n",
    "\n",
    "rf_pred = rf.predict(kbest_test_x_700)\n",
    "matrix_rf = confusion_matrix(y_test, rf_pred)\n",
    "\n",
    "print(matrix_rf)\n",
    "\n",
    "sns.heatmap(matrix_rf, cmap='Greens', annot=True, fmt='d')\n",
    "plt.title(\"Random Forest confusion matrix and heatmap\")\n",
    "plt.xlabel(\"Predicted classes\")\n",
    "plt.ylabel(\"Actual classes\")"
   ],
   "metadata": {
    "collapsed": false,
    "pycharm": {
     "name": "#%%\n"
    }
   }
  },
  {
   "cell_type": "code",
   "execution_count": 175,
   "outputs": [
    {
     "name": "stdout",
     "output_type": "stream",
     "text": [
      "0.6402690720073383\n",
      "              precision    recall  f1-score   support\n",
      "\n",
      "    negative       0.58      0.20      0.30      1099\n",
      "     neutral       0.64      0.90      0.75      3848\n",
      "    positive       0.65      0.31      0.42      1594\n",
      "\n",
      "    accuracy                           0.64      6541\n",
      "   macro avg       0.62      0.47      0.49      6541\n",
      "weighted avg       0.63      0.64      0.59      6541\n",
      "\n"
     ]
    }
   ],
   "source": [
    "# ada\n",
    "ada = AdaBoostClassifier().fit(*train_tuple)\n",
    "print(ada.score(*test_tuple))\n",
    "print(classification_report(y_test, ada.predict(kbest_test_x_700)))"
   ],
   "metadata": {
    "collapsed": false,
    "pycharm": {
     "name": "#%%\n"
    }
   }
  },
  {
   "cell_type": "markdown",
   "source": [
    "## Logistic Regression"
   ],
   "metadata": {
    "collapsed": false,
    "pycharm": {
     "name": "#%% md\n"
    }
   }
  },
  {
   "cell_type": "code",
   "execution_count": 176,
   "metadata": {},
   "outputs": [
    {
     "name": "stdout",
     "output_type": "stream",
     "text": [
      "Performing grid search...\n",
      "parameters:\n",
      "{'C': [0.01, 0.1, 0.5, 1, 5, 10, 100], 'multi_class': ['multinomial', 'ovr']}\n",
      "Fitting 5 folds for each of 14 candidates, totalling 70 fits\n",
      "[CV 1/5; 1/14] START C=0.01, multi_class=multinomial............................\n",
      "[CV 1/5; 1/14] END C=0.01, multi_class=multinomial;, score=0.619 total time=   0.2s\n",
      "[CV 2/5; 1/14] START C=0.01, multi_class=multinomial............................\n",
      "[CV 2/5; 1/14] END C=0.01, multi_class=multinomial;, score=0.619 total time=   0.2s\n",
      "[CV 3/5; 1/14] START C=0.01, multi_class=multinomial............................\n",
      "[CV 3/5; 1/14] END C=0.01, multi_class=multinomial;, score=0.611 total time=   0.2s\n",
      "[CV 4/5; 1/14] START C=0.01, multi_class=multinomial............................\n",
      "[CV 4/5; 1/14] END C=0.01, multi_class=multinomial;, score=0.618 total time=   0.2s\n",
      "[CV 5/5; 1/14] START C=0.01, multi_class=multinomial............................\n",
      "[CV 5/5; 1/14] END C=0.01, multi_class=multinomial;, score=0.616 total time=   0.2s\n",
      "[CV 1/5; 2/14] START C=0.01, multi_class=ovr....................................\n",
      "[CV 1/5; 2/14] END .....C=0.01, multi_class=ovr;, score=0.606 total time=   0.2s\n",
      "[CV 2/5; 2/14] START C=0.01, multi_class=ovr....................................\n",
      "[CV 2/5; 2/14] END .....C=0.01, multi_class=ovr;, score=0.604 total time=   0.2s\n",
      "[CV 3/5; 2/14] START C=0.01, multi_class=ovr....................................\n",
      "[CV 3/5; 2/14] END .....C=0.01, multi_class=ovr;, score=0.601 total time=   0.2s\n",
      "[CV 4/5; 2/14] START C=0.01, multi_class=ovr....................................\n",
      "[CV 4/5; 2/14] END .....C=0.01, multi_class=ovr;, score=0.610 total time=   0.1s\n",
      "[CV 5/5; 2/14] START C=0.01, multi_class=ovr....................................\n",
      "[CV 5/5; 2/14] END .....C=0.01, multi_class=ovr;, score=0.607 total time=   0.1s\n",
      "[CV 1/5; 3/14] START C=0.1, multi_class=multinomial.............................\n",
      "[CV 1/5; 3/14] END C=0.1, multi_class=multinomial;, score=0.655 total time=   0.5s\n",
      "[CV 2/5; 3/14] START C=0.1, multi_class=multinomial.............................\n",
      "[CV 2/5; 3/14] END C=0.1, multi_class=multinomial;, score=0.662 total time=   0.4s\n",
      "[CV 3/5; 3/14] START C=0.1, multi_class=multinomial.............................\n",
      "[CV 3/5; 3/14] END C=0.1, multi_class=multinomial;, score=0.662 total time=   0.4s\n",
      "[CV 4/5; 3/14] START C=0.1, multi_class=multinomial.............................\n",
      "[CV 4/5; 3/14] END C=0.1, multi_class=multinomial;, score=0.650 total time=   0.4s\n",
      "[CV 5/5; 3/14] START C=0.1, multi_class=multinomial.............................\n",
      "[CV 5/5; 3/14] END C=0.1, multi_class=multinomial;, score=0.662 total time=   0.4s\n",
      "[CV 1/5; 4/14] START C=0.1, multi_class=ovr.....................................\n",
      "[CV 1/5; 4/14] END ......C=0.1, multi_class=ovr;, score=0.646 total time=   0.3s\n",
      "[CV 2/5; 4/14] START C=0.1, multi_class=ovr.....................................\n",
      "[CV 2/5; 4/14] END ......C=0.1, multi_class=ovr;, score=0.659 total time=   0.3s\n",
      "[CV 3/5; 4/14] START C=0.1, multi_class=ovr.....................................\n",
      "[CV 3/5; 4/14] END ......C=0.1, multi_class=ovr;, score=0.650 total time=   0.3s\n",
      "[CV 4/5; 4/14] START C=0.1, multi_class=ovr.....................................\n",
      "[CV 4/5; 4/14] END ......C=0.1, multi_class=ovr;, score=0.645 total time=   0.3s\n",
      "[CV 5/5; 4/14] START C=0.1, multi_class=ovr.....................................\n",
      "[CV 5/5; 4/14] END ......C=0.1, multi_class=ovr;, score=0.644 total time=   0.3s\n",
      "[CV 1/5; 5/14] START C=0.5, multi_class=multinomial.............................\n",
      "[CV 1/5; 5/14] END C=0.5, multi_class=multinomial;, score=0.672 total time=   0.7s\n",
      "[CV 2/5; 5/14] START C=0.5, multi_class=multinomial.............................\n",
      "[CV 2/5; 5/14] END C=0.5, multi_class=multinomial;, score=0.680 total time=   0.8s\n",
      "[CV 3/5; 5/14] START C=0.5, multi_class=multinomial.............................\n",
      "[CV 3/5; 5/14] END C=0.5, multi_class=multinomial;, score=0.675 total time=   0.8s\n",
      "[CV 4/5; 5/14] START C=0.5, multi_class=multinomial.............................\n",
      "[CV 4/5; 5/14] END C=0.5, multi_class=multinomial;, score=0.671 total time=   0.8s\n",
      "[CV 5/5; 5/14] START C=0.5, multi_class=multinomial.............................\n",
      "[CV 5/5; 5/14] END C=0.5, multi_class=multinomial;, score=0.683 total time=   0.7s\n",
      "[CV 1/5; 6/14] START C=0.5, multi_class=ovr.....................................\n",
      "[CV 1/5; 6/14] END ......C=0.5, multi_class=ovr;, score=0.664 total time=   0.5s\n",
      "[CV 2/5; 6/14] START C=0.5, multi_class=ovr.....................................\n",
      "[CV 2/5; 6/14] END ......C=0.5, multi_class=ovr;, score=0.674 total time=   0.5s\n",
      "[CV 3/5; 6/14] START C=0.5, multi_class=ovr.....................................\n",
      "[CV 3/5; 6/14] END ......C=0.5, multi_class=ovr;, score=0.674 total time=   0.5s\n",
      "[CV 4/5; 6/14] START C=0.5, multi_class=ovr.....................................\n",
      "[CV 4/5; 6/14] END ......C=0.5, multi_class=ovr;, score=0.667 total time=   0.5s\n",
      "[CV 5/5; 6/14] START C=0.5, multi_class=ovr.....................................\n",
      "[CV 5/5; 6/14] END ......C=0.5, multi_class=ovr;, score=0.676 total time=   0.6s\n",
      "[CV 1/5; 7/14] START C=1, multi_class=multinomial...............................\n",
      "[CV 1/5; 7/14] END C=1, multi_class=multinomial;, score=0.676 total time=   1.0s\n",
      "[CV 2/5; 7/14] START C=1, multi_class=multinomial...............................\n",
      "[CV 2/5; 7/14] END C=1, multi_class=multinomial;, score=0.688 total time=   1.0s\n",
      "[CV 3/5; 7/14] START C=1, multi_class=multinomial...............................\n",
      "[CV 3/5; 7/14] END C=1, multi_class=multinomial;, score=0.678 total time=   0.9s\n",
      "[CV 4/5; 7/14] START C=1, multi_class=multinomial...............................\n",
      "[CV 4/5; 7/14] END C=1, multi_class=multinomial;, score=0.676 total time=   0.9s\n",
      "[CV 5/5; 7/14] START C=1, multi_class=multinomial...............................\n",
      "[CV 5/5; 7/14] END C=1, multi_class=multinomial;, score=0.686 total time=   0.9s\n",
      "[CV 1/5; 8/14] START C=1, multi_class=ovr.......................................\n",
      "[CV 1/5; 8/14] END ........C=1, multi_class=ovr;, score=0.670 total time=   0.7s\n",
      "[CV 2/5; 8/14] START C=1, multi_class=ovr.......................................\n",
      "[CV 2/5; 8/14] END ........C=1, multi_class=ovr;, score=0.684 total time=   0.7s\n",
      "[CV 3/5; 8/14] START C=1, multi_class=ovr.......................................\n",
      "[CV 3/5; 8/14] END ........C=1, multi_class=ovr;, score=0.673 total time=   0.7s\n",
      "[CV 4/5; 8/14] START C=1, multi_class=ovr.......................................\n",
      "[CV 4/5; 8/14] END ........C=1, multi_class=ovr;, score=0.672 total time=   0.7s\n",
      "[CV 5/5; 8/14] START C=1, multi_class=ovr.......................................\n",
      "[CV 5/5; 8/14] END ........C=1, multi_class=ovr;, score=0.678 total time=   0.7s\n",
      "[CV 1/5; 9/14] START C=5, multi_class=multinomial...............................\n",
      "[CV 1/5; 9/14] END C=5, multi_class=multinomial;, score=0.679 total time=   1.7s\n",
      "[CV 2/5; 9/14] START C=5, multi_class=multinomial...............................\n",
      "[CV 2/5; 9/14] END C=5, multi_class=multinomial;, score=0.691 total time=   1.6s\n",
      "[CV 3/5; 9/14] START C=5, multi_class=multinomial...............................\n",
      "[CV 3/5; 9/14] END C=5, multi_class=multinomial;, score=0.681 total time=   1.5s\n",
      "[CV 4/5; 9/14] START C=5, multi_class=multinomial...............................\n",
      "[CV 4/5; 9/14] END C=5, multi_class=multinomial;, score=0.684 total time=   1.6s\n",
      "[CV 5/5; 9/14] START C=5, multi_class=multinomial...............................\n",
      "[CV 5/5; 9/14] END C=5, multi_class=multinomial;, score=0.693 total time=   1.5s\n",
      "[CV 1/5; 10/14] START C=5, multi_class=ovr......................................\n",
      "[CV 1/5; 10/14] END .......C=5, multi_class=ovr;, score=0.678 total time=   1.1s\n",
      "[CV 2/5; 10/14] START C=5, multi_class=ovr......................................\n",
      "[CV 2/5; 10/14] END .......C=5, multi_class=ovr;, score=0.695 total time=   1.1s\n",
      "[CV 3/5; 10/14] START C=5, multi_class=ovr......................................\n",
      "[CV 3/5; 10/14] END .......C=5, multi_class=ovr;, score=0.677 total time=   1.2s\n",
      "[CV 4/5; 10/14] START C=5, multi_class=ovr......................................\n",
      "[CV 4/5; 10/14] END .......C=5, multi_class=ovr;, score=0.679 total time=   1.1s\n",
      "[CV 5/5; 10/14] START C=5, multi_class=ovr......................................\n",
      "[CV 5/5; 10/14] END .......C=5, multi_class=ovr;, score=0.688 total time=   1.1s\n",
      "[CV 1/5; 11/14] START C=10, multi_class=multinomial.............................\n",
      "[CV 1/5; 11/14] END C=10, multi_class=multinomial;, score=0.678 total time=   1.9s\n",
      "[CV 2/5; 11/14] START C=10, multi_class=multinomial.............................\n",
      "[CV 2/5; 11/14] END C=10, multi_class=multinomial;, score=0.692 total time=   1.9s\n",
      "[CV 3/5; 11/14] START C=10, multi_class=multinomial.............................\n",
      "[CV 3/5; 11/14] END C=10, multi_class=multinomial;, score=0.683 total time=   1.9s\n",
      "[CV 4/5; 11/14] START C=10, multi_class=multinomial.............................\n",
      "[CV 4/5; 11/14] END C=10, multi_class=multinomial;, score=0.685 total time=   2.7s\n",
      "[CV 5/5; 11/14] START C=10, multi_class=multinomial.............................\n",
      "[CV 5/5; 11/14] END C=10, multi_class=multinomial;, score=0.692 total time=   1.9s\n",
      "[CV 1/5; 12/14] START C=10, multi_class=ovr.....................................\n",
      "[CV 1/5; 12/14] END ......C=10, multi_class=ovr;, score=0.677 total time=   1.4s\n",
      "[CV 2/5; 12/14] START C=10, multi_class=ovr.....................................\n",
      "[CV 2/5; 12/14] END ......C=10, multi_class=ovr;, score=0.695 total time=   1.4s\n",
      "[CV 3/5; 12/14] START C=10, multi_class=ovr.....................................\n",
      "[CV 3/5; 12/14] END ......C=10, multi_class=ovr;, score=0.677 total time=   1.4s\n",
      "[CV 4/5; 12/14] START C=10, multi_class=ovr.....................................\n",
      "[CV 4/5; 12/14] END ......C=10, multi_class=ovr;, score=0.680 total time=   1.4s\n",
      "[CV 5/5; 12/14] START C=10, multi_class=ovr.....................................\n",
      "[CV 5/5; 12/14] END ......C=10, multi_class=ovr;, score=0.688 total time=   1.4s\n",
      "[CV 1/5; 13/14] START C=100, multi_class=multinomial............................\n",
      "[CV 1/5; 13/14] END C=100, multi_class=multinomial;, score=0.678 total time=   3.7s\n",
      "[CV 2/5; 13/14] START C=100, multi_class=multinomial............................\n",
      "[CV 2/5; 13/14] END C=100, multi_class=multinomial;, score=0.693 total time=   3.7s\n",
      "[CV 3/5; 13/14] START C=100, multi_class=multinomial............................\n",
      "[CV 3/5; 13/14] END C=100, multi_class=multinomial;, score=0.682 total time=   3.5s\n",
      "[CV 4/5; 13/14] START C=100, multi_class=multinomial............................\n",
      "[CV 4/5; 13/14] END C=100, multi_class=multinomial;, score=0.684 total time=   3.9s\n",
      "[CV 5/5; 13/14] START C=100, multi_class=multinomial............................\n",
      "[CV 5/5; 13/14] END C=100, multi_class=multinomial;, score=0.693 total time=   3.6s\n",
      "[CV 1/5; 14/14] START C=100, multi_class=ovr....................................\n",
      "[CV 1/5; 14/14] END .....C=100, multi_class=ovr;, score=0.678 total time=   2.7s\n",
      "[CV 2/5; 14/14] START C=100, multi_class=ovr....................................\n",
      "[CV 2/5; 14/14] END .....C=100, multi_class=ovr;, score=0.693 total time=   2.6s\n",
      "[CV 3/5; 14/14] START C=100, multi_class=ovr....................................\n",
      "[CV 3/5; 14/14] END .....C=100, multi_class=ovr;, score=0.679 total time=   2.5s\n",
      "[CV 4/5; 14/14] START C=100, multi_class=ovr....................................\n",
      "[CV 4/5; 14/14] END .....C=100, multi_class=ovr;, score=0.678 total time=   2.4s\n",
      "[CV 5/5; 14/14] START C=100, multi_class=ovr....................................\n",
      "[CV 5/5; 14/14] END .....C=100, multi_class=ovr;, score=0.685 total time=   2.7s\n",
      "Best score: 0.6859319990778896\n",
      "{'C': 10, 'class_weight': None, 'dual': False, 'fit_intercept': True, 'intercept_scaling': 1, 'l1_ratio': None, 'max_iter': 1000, 'multi_class': 'multinomial', 'n_jobs': None, 'penalty': 'l2', 'random_state': None, 'solver': 'lbfgs', 'tol': 0.0001, 'verbose': 0, 'warm_start': False}\n"
     ]
    }
   ],
   "source": [
    "# use grid search find optimal c for logistic regression\n",
    "\n",
    "param_lr = {\n",
    "    'C': [0.01, 0.1, 0.5, 1, 5, 10, 100],\n",
    "    'multi_class': ['multinomial', 'ovr'],\n",
    "}\n",
    "\n",
    "gs_lr = GridSearchCV(\n",
    "    LogisticRegression(max_iter=1000),\n",
    "    param_lr,\n",
    "    cv=5,\n",
    "    n_jobs=1,\n",
    "    verbose=10\n",
    ")\n",
    "\n",
    "print(\"Performing grid search...\")\n",
    "print(\"parameters:\")\n",
    "print(param_lr)\n",
    "\n",
    "gs_lr.fit(*train_tuple)\n",
    "print(f\"Best score: {gs_lr.best_score_}\")\n",
    "print(gs_lr.best_estimator_.get_params())"
   ]
  },
  {
   "cell_type": "code",
   "execution_count": 177,
   "metadata": {},
   "outputs": [
    {
     "data": {
      "text/plain": "<Figure size 432x288 with 2 Axes>",
      "image/png": "[encoded data removed]"
     },
     "metadata": {
      "needs_background": "light"
     },
     "output_type": "display_data"
    }
   ],
   "source": [
    "lr_scores = gs_lr.cv_results_['mean_test_score'].reshape(7, 2)\n",
    "\n",
    "sns.heatmap(\n",
    "    lr_scores,\n",
    "    xticklabels=param_lr['multi_class'],\n",
    "    yticklabels=param_lr['C'],\n",
    "    cmap='Blues'\n",
    ")\n",
    "\n",
    "b, t = plt.ylim()  # discover the values for bottom and top\n",
    "b += 0.5  # Add 0.5 to the bottom\n",
    "t -= 0.5  # Subtract 0.5 from the top\n",
    "plt.ylim(b, t)  # update the ylim(bottom, top) values\n",
    "plt.title(\"Grid Search results of Logistic Regression\")\n",
    "plt.xlabel(\"multi class\")\n",
    "plt.ylabel(\"C\")\n",
    "plt.show()"
   ]
  },
  {
   "cell_type": "code",
   "execution_count": 178,
   "metadata": {},
   "outputs": [
    {
     "name": "stdout",
     "output_type": "stream",
     "text": [
      "              precision    recall  f1-score   support\n",
      "\n",
      "    negative       0.57      0.36      0.44      1099\n",
      "     neutral       0.68      0.84      0.75      3848\n",
      "    positive       0.67      0.47      0.55      1594\n",
      "\n",
      "    accuracy                           0.67      6541\n",
      "   macro avg       0.64      0.56      0.58      6541\n",
      "weighted avg       0.66      0.67      0.65      6541\n",
      "\n"
     ]
    },
    {
     "data": {
      "text/plain": "Text(33.0, 0.5, 'Actual classes')"
     },
     "execution_count": 178,
     "metadata": {},
     "output_type": "execute_result"
    },
    {
     "data": {
      "text/plain": "<Figure size 432x288 with 2 Axes>",
      "image/png": "[encoded data removed]"
     },
     "metadata": {
      "needs_background": "light"
     },
     "output_type": "display_data"
    }
   ],
   "source": [
    "# logistic heatmap\n",
    "lr_pred = gs_lr.predict(kbest_test_x_700)\n",
    "\n",
    "matrix_lr = confusion_matrix(y_test, lr_pred)\n",
    "print(classification_report(y_test, lr_pred))\n",
    "sns.heatmap(matrix_lr, cmap='Blues', annot=True, fmt='d')\n",
    "plt.title(\"Logistic Regression confusion matrix and heatmap\")\n",
    "plt.xlabel(\"Predicted classes\")\n",
    "plt.ylabel(\"Actual classes\")\n"
   ]
  },
  {
   "cell_type": "markdown",
   "metadata": {},
   "source": [
    "### Ensemble models"
   ]
  },
  {
   "cell_type": "code",
   "execution_count": 179,
   "metadata": {},
   "outputs": [
    {
     "name": "stderr",
     "output_type": "stream",
     "text": [
      "[Parallel(n_jobs=-1)]: Using backend LokyBackend with 16 concurrent workers.\n",
      "[Parallel(n_jobs=-1)]: Done  18 tasks      | elapsed:    0.8s\n",
      "[Parallel(n_jobs=-1)]: Done 100 out of 100 | elapsed:    1.8s finished\n"
     ]
    },
    {
     "name": "stdout",
     "output_type": "stream",
     "text": [
      "voting accuracy\n"
     ]
    },
    {
     "name": "stderr",
     "output_type": "stream",
     "text": [
      "[Parallel(n_jobs=-1)]: Using backend LokyBackend with 16 concurrent workers.\n",
      "[Parallel(n_jobs=-1)]: Done  18 tasks      | elapsed:    0.3s\n",
      "[Parallel(n_jobs=-1)]: Done 100 out of 100 | elapsed:    1.1s finished\n",
      "[Parallel(n_jobs=16)]: Using backend ThreadingBackend with 16 concurrent workers.\n",
      "[Parallel(n_jobs=16)]: Done  18 tasks      | elapsed:    0.0s\n",
      "[Parallel(n_jobs=16)]: Done 100 out of 100 | elapsed:    0.1s finished\n",
      "[Parallel(n_jobs=-1)]: Using backend LokyBackend with 16 concurrent workers.\n",
      "[Parallel(n_jobs=-1)]: Done  18 tasks      | elapsed:    0.3s\n",
      "[Parallel(n_jobs=-1)]: Done 100 out of 100 | elapsed:    1.1s finished\n",
      "[Parallel(n_jobs=16)]: Using backend ThreadingBackend with 16 concurrent workers.\n",
      "[Parallel(n_jobs=16)]: Done  18 tasks      | elapsed:    0.0s\n",
      "[Parallel(n_jobs=16)]: Done 100 out of 100 | elapsed:    0.1s finished\n",
      "[Parallel(n_jobs=-1)]: Using backend LokyBackend with 16 concurrent workers.\n",
      "[Parallel(n_jobs=-1)]: Done  18 tasks      | elapsed:    0.3s\n",
      "[Parallel(n_jobs=-1)]: Done 100 out of 100 | elapsed:    1.2s finished\n",
      "[Parallel(n_jobs=16)]: Using backend ThreadingBackend with 16 concurrent workers.\n",
      "[Parallel(n_jobs=16)]: Done  18 tasks      | elapsed:    0.0s\n",
      "[Parallel(n_jobs=16)]: Done 100 out of 100 | elapsed:    0.1s finished\n",
      "[Parallel(n_jobs=-1)]: Using backend LokyBackend with 16 concurrent workers.\n",
      "[Parallel(n_jobs=-1)]: Done  18 tasks      | elapsed:    0.3s\n",
      "[Parallel(n_jobs=-1)]: Done 100 out of 100 | elapsed:    1.0s finished\n",
      "[Parallel(n_jobs=16)]: Using backend ThreadingBackend with 16 concurrent workers.\n",
      "[Parallel(n_jobs=16)]: Done  18 tasks      | elapsed:    0.0s\n",
      "[Parallel(n_jobs=16)]: Done 100 out of 100 | elapsed:    0.1s finished\n",
      "[Parallel(n_jobs=-1)]: Using backend LokyBackend with 16 concurrent workers.\n",
      "[Parallel(n_jobs=-1)]: Done  18 tasks      | elapsed:    0.3s\n",
      "[Parallel(n_jobs=-1)]: Done 100 out of 100 | elapsed:    1.0s finished\n",
      "[Parallel(n_jobs=16)]: Using backend ThreadingBackend with 16 concurrent workers.\n",
      "[Parallel(n_jobs=16)]: Done  18 tasks      | elapsed:    0.0s\n",
      "[Parallel(n_jobs=16)]: Done 100 out of 100 | elapsed:    0.1s finished\n",
      "[Parallel(n_jobs=16)]: Using backend ThreadingBackend with 16 concurrent workers.\n",
      "[Parallel(n_jobs=16)]: Done  18 tasks      | elapsed:    0.0s\n",
      "[Parallel(n_jobs=16)]: Done 100 out of 100 | elapsed:    0.1s finished\n"
     ]
    },
    {
     "name": "stdout",
     "output_type": "stream",
     "text": [
      "0.683703951895714 0.6758905366151965\n"
     ]
    }
   ],
   "source": [
    "# voting\n",
    "base_classifiers = [\n",
    "    ('sgd', SGDClassifier()),\n",
    "    ('dt',\n",
    "     RandomForestClassifier(n_jobs=-1, n_estimators=100, verbose=1,\n",
    "                            max_depth=150)\n",
    "     ),\n",
    "    ('lr', LogisticRegression(\n",
    "        C=10,\n",
    "        multi_class='multinomial',\n",
    "        max_iter=1000)\n",
    "     ),\n",
    "    ('mnb', MultinomialNB()),\n",
    "\n",
    "    (' svc', SVC(C=1000, gamma=0.001, kernel='rbf'))\n",
    "]\n",
    "\n",
    "voting = VotingClassifier(estimators=base_classifiers, voting='hard')\n",
    "voting.fit(*train_tuple)\n",
    "print(\"voting accuracy\")\n",
    "\n",
    "print(cross_val_score(\n",
    "    voting,\n",
    "    *train_tuple, cv=5).mean(),\n",
    "      voting.score(\n",
    "          *test_tuple))"
   ]
  },
  {
   "cell_type": "code",
   "execution_count": 180,
   "metadata": {},
   "outputs": [
    {
     "name": "stdout",
     "output_type": "stream",
     "text": [
      "DT: 0.5477755694847882\n",
      "Option 1: bagging Accuracy: 0.594557407124293\n",
      "Option 2: bagging Accuracy: 0.6162666258981807\n",
      "Option 3: bagging Accuracy: 0.6135147530958569\n"
     ]
    }
   ],
   "source": [
    "# bagging\n",
    "DT = DecisionTreeClassifier()\n",
    "\n",
    "bagging_one = BaggingClassifier(\n",
    "    base_estimator=DecisionTreeClassifier(),\n",
    "    n_estimators=10,\n",
    "    max_samples=1.0, max_features=1.0)\n",
    "\n",
    "bagging_two = BaggingClassifier(\n",
    "    base_estimator=DecisionTreeClassifier(),\n",
    "    n_estimators=10,\n",
    "    max_samples=0.5, max_features=1.0)\n",
    "\n",
    "bagging_three = BaggingClassifier(\n",
    "    base_estimator=DecisionTreeClassifier(),\n",
    "    n_estimators=10,\n",
    "    max_samples=0.5, max_features=0.5)\n",
    "\n",
    "DT.fit(*train_tuple)\n",
    "bagging_one.fit(*train_tuple)\n",
    "bagging_two.fit(*train_tuple)\n",
    "bagging_three.fit(*train_tuple)\n",
    "\n",
    "print(\"DT:\", DT.score(*test_tuple))\n",
    "print(\"Option 1: bagging Accuracy:\",\n",
    "      bagging_one.score(*test_tuple))\n",
    "print(\"Option 2: bagging Accuracy:\",\n",
    "      bagging_two.score(*test_tuple))\n",
    "print(\"Option 3: bagging Accuracy:\",\n",
    "      bagging_three.score(*test_tuple))"
   ]
  },
  {
   "cell_type": "markdown",
   "metadata": {
    "pycharm": {
     "name": "#%% md\n"
    }
   },
   "source": [
    "# voting"
   ]
  },
  {
   "cell_type": "code",
   "execution_count": 181,
   "outputs": [
    {
     "name": "stdout",
     "output_type": "stream",
     "text": [
      "['neutral' 'negative' 'neutral' ... 'neutral' 'neutral' 'negative']\n"
     ]
    }
   ],
   "source": [
    "base_classifiers = [\n",
    "    ('sgd', SGDClassifier()),\n",
    "    ('dt', DecisionTreeClassifier()),\n",
    "    ('lr',\n",
    "     LogisticRegression(\n",
    "         C=0.5,\n",
    "         multi_class='multinomial',\n",
    "         max_iter=1000)\n",
    "     ),\n",
    "    ('mnb', MultinomialNB()),\n",
    "    (' svc', LinearSVC(C=12, max_iter=10000))\n",
    "]\n",
    "\n",
    "voting = VotingClassifier(estimators=base_classifiers, voting='hard')\n",
    "voting.fit(kbest_train_x_500.todense(), y_train_raw)\n",
    "prediction = voting.predict(kbest_test_x_500.todense())\n",
    "\n",
    "print(prediction)"
   ],
   "metadata": {
    "collapsed": false,
    "pycharm": {
     "name": "#%%\n"
    }
   }
  },
  {
   "cell_type": "code",
   "execution_count": 182,
   "outputs": [],
   "source": [
    "pre = pd.DataFrame(prediction, columns=['sentiment'], index=test_data['id'])\n",
    "pre.index.name = 'id'\n",
    "pre.to_csv(\"voting_prediction_cv.csv\")"
   ],
   "metadata": {
    "collapsed": false,
    "pycharm": {
     "name": "#%%\n"
    }
   }
  },
  {
   "cell_type": "code",
   "execution_count": 183,
   "metadata": {},
   "outputs": [],
   "source": [
    "# stacking code from prac 8\n",
    "np.random.seed(1)\n",
    "\n",
    "\n",
    "class StackingClassifier():\n",
    "\n",
    "    def __init__(self, classifiers, metaclassifier):\n",
    "        self.classifiers = classifiers\n",
    "        self.metaclassifier = metaclassifier\n",
    "\n",
    "    def fit(self, X, y):\n",
    "        for clf in self.classifiers:\n",
    "            clf.fit(X, y)\n",
    "        X_meta = self._predict_base(X)\n",
    "        self.metaclassifier.fit(X_meta, y)\n",
    "\n",
    "    def _predict_base(self, X):\n",
    "        yhats = []\n",
    "        for clf in self.classifiers:\n",
    "            yhat = clf.predict_proba(X)\n",
    "            yhats.append(yhat)\n",
    "        yhats = np.concatenate(yhats, axis=1)\n",
    "        assert yhats.shape[0] == X.shape[0]\n",
    "        return yhats\n",
    "\n",
    "    def predict(self, X):\n",
    "        X_meta = self._predict_base(X)\n",
    "        yhat = self.metaclassifier.predict(X_meta)\n",
    "        return yhat\n",
    "\n",
    "    def score(self, X, y):\n",
    "        yhat = self.predict(X)\n",
    "        return accuracy_score(y, yhat)"
   ]
  },
  {
   "cell_type": "code",
   "execution_count": 184,
   "metadata": {},
   "outputs": [],
   "source": [
    "# base calssifier to be chosen # lr/multinomial\n",
    "classifiers = [\n",
    "    LogisticRegression(max_iter=1000),\n",
    "    MultinomialNB()\n",
    "]\n",
    "\n",
    "# three meta classifiers\n",
    "meta_classifier_lr = LogisticRegression(C=1)\n",
    "stacker_lr = StackingClassifier(classifiers, meta_classifier_lr)\n",
    "\n",
    "meta_classifier_mnb = MultinomialNB()\n",
    "stacker_mnb = StackingClassifier(classifiers, meta_classifier_mnb)\n",
    "\n",
    "meta_classifier_svc = LinearSVC(C=10)\n",
    "stacker_svc = StackingClassifier(classifiers, meta_classifier_svc)"
   ]
  },
  {
   "cell_type": "code",
   "execution_count": 185,
   "metadata": {},
   "outputs": [
    {
     "name": "stdout",
     "output_type": "stream",
     "text": [
      "Stacker Accuracy (Logistic Regression)   : 0.6739030729246293 Time: 5.630630970001221\n",
      "Stacker Accuracy (Multinomial Regression): 0.6703867910105489 Time: 5.257010221481323\n",
      "Stacker Accuracy (LinearSVC)             : 0.6726800183458187 Time: 7.898144006729126\n"
     ]
    }
   ],
   "source": [
    "start = time.time()\n",
    "stacker_lr.fit(kbest_train_x_700.todense(), y_train)\n",
    "end = time.time()\n",
    "\n",
    "t = end - start\n",
    "acc_lr = stacker_lr.score(kbest_test_x_700.todense(), y_test)\n",
    "print('Stacker Accuracy (Logistic Regression)   :', acc_lr, 'Time:', t)\n",
    "\n",
    "start = time.time()\n",
    "stacker_mnb.fit(kbest_train_x_700.todense(), y_train)\n",
    "end = time.time()\n",
    "t = end - start\n",
    "acc_mnb = stacker_mnb.score(kbest_test_x_700.todense(), y_test)\n",
    "print('Stacker Accuracy (Multinomial Regression):', acc_mnb, 'Time:', t)\n",
    "\n",
    "start = time.time()\n",
    "stacker_svc.fit(kbest_train_x_700.todense(), y_train)\n",
    "end = time.time()\n",
    "t = end - start\n",
    "acc_svc = stacker_svc.score(kbest_test_x_700.todense(), y_test)\n",
    "print('Stacker Accuracy (LinearSVC)             :', acc_svc, 'Time:', t)\n"
   ]
  },
  {
   "cell_type": "markdown",
   "metadata": {},
   "source": [
    "### Prediction"
   ]
  },
  {
   "cell_type": "code",
   "execution_count": 186,
   "metadata": {
    "pycharm": {
     "name": "#%%\n"
    }
   },
   "outputs": [],
   "source": [
    "stacker_lr.fit(kbest_train_x_500.todense(), y_train_raw)\n",
    "stacker_svc.fit(kbest_train_x_500.todense(), y_train_raw)\n",
    "\n",
    "prediction = stacker_svc.predict(kbest_test_x_500.todense())\n",
    "pre = pd.DataFrame(prediction, columns=['sentiment'], index=test_data['id'])\n",
    "pre.index.name = 'id'\n",
    "pre.to_csv(r\"svc_stacker_prediction_cv.csv\")\n",
    "\n",
    "prediction = stacker_lr.predict(kbest_test_x_500.todense())\n",
    "pre = pd.DataFrame(prediction, columns=['sentiment'], index=test_data['id'])\n",
    "pre.index.name = 'id'\n",
    "pre.to_csv(r\"lr_stacker_prediction_cv.csv\")"
   ]
  }
 ],
 "metadata": {
  "kernelspec": {
   "display_name": "Python 3 (ipykernel)",
   "language": "python",
   "name": "python3"
  },
  "language_info": {
   "codemirror_mode": {
    "name": "ipython",
    "version": 3
   },
   "file_extension": ".py",
   "mimetype": "text/x-python",
   "name": "python",
   "nbconvert_exporter": "python",
   "pygments_lexer": "ipython3",
   "version": "3.9.10"
  }
 },
 "nbformat": 4,
 "nbformat_minor": 4
}