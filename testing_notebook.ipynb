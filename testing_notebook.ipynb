{
 "cells": [
  {
   "cell_type": "markdown",
   "metadata": {},
   "source": [
    "##### The University of Melbourne, School of Computing and Information Systems\n",
    "# COMP30027 Machine Learning, 2022 Semester 1\n",
    "\n",
    "## Assignment 2: Sentiment Classification of Tweets\n",
    "\n",
    "This is a sample code to assist you with vectorising the 'Train' dataset for your assignment 2.\n",
    "\n",
    "First we read the CSV datafiles (Train and Test)."
   ]
  },
  {
   "cell_type": "code",
   "execution_count": 14,
   "metadata": {},
   "outputs": [],
   "source": [
    "# import libraries\n",
    "import pandas as pd\n",
    "import numpy as np\n",
    "import re\n",
    "import nltk\n",
    "import matplotlib.pyplot as plt\n",
    "import seaborn as sns\n",
    "import scipy\n",
    "import time\n",
    "import warnings\n",
    "\n",
    "from sklearn.feature_extraction.text import CountVectorizer,TfidfVectorizer\n",
    "from sklearn.feature_selection import SelectKBest, chi2, f_classif\n",
    "from sklearn.model_selection import train_test_split\n",
    "from sklearn.dummy import DummyClassifier\n",
    "from sklearn.naive_bayes import GaussianNB, MultinomialNB, BernoulliNB\n",
    "from sklearn.neighbors import KNeighborsClassifier\n",
    "from sklearn.tree import DecisionTreeClassifier\n",
    "from sklearn.linear_model import LogisticRegression \n",
    "from sklearn.svm import LinearSVC, SVC\n",
    "from sklearn.model_selection import cross_val_score\n",
    "from sklearn.model_selection import cross_val_predict\n",
    "from sklearn.metrics import accuracy_score, confusion_matrix\n",
    "from sklearn.metrics import classification_report\n"
   ]
  },
  {
   "cell_type": "code",
   "execution_count": 15,
   "metadata": {},
   "outputs": [],
   "source": [
    "warnings.filterwarnings('ignore')"
   ]
  },
  {
   "cell_type": "code",
   "execution_count": 16,
   "metadata": {},
   "outputs": [],
   "source": [
    "# read data from csv file\n",
    "train_data = pd.read_csv(\"Train.csv\", sep=',')\n",
    "test_data = pd.read_csv(\"Test.csv\", sep=',')"
   ]
  },
  {
   "cell_type": "markdown",
   "metadata": {},
   "source": [
    "### Text Preprocessing"
   ]
  },
  {
   "cell_type": "code",
   "execution_count": 17,
   "metadata": {},
   "outputs": [],
   "source": [
    "import nltk\n",
    "\n",
    "#separating instance and label for Train\n",
    "X_train_raw = [x[0] for x in train_data[['text']].values]\n",
    "Y_train = [x[0] for x in train_data[['sentiment']].values]"
   ]
  },
  {
   "cell_type": "code",
   "execution_count": 18,
   "metadata": {},
   "outputs": [
    {
     "name": "stdout",
     "output_type": "stream",
     "text": [
      "Train length: 21802\n",
      "(6099,)\n",
      "Test length: 6099\n"
     ]
    }
   ],
   "source": [
    "# data cleaning\n",
    "X_train_raw = train_data['text'].apply(lambda x: re.sub(r'http\\S+', '', x))\n",
    "X_train_raw = X_train_raw.apply(lambda x: re.sub(r'@[A-Za-z0-9]+', '', x))\n",
    "\n",
    "X_test_raw = test_data['text'].apply(lambda x: re.sub(r'http\\S+', '', x))\n",
    "X_test_raw = X_test_raw.apply(lambda x: re.sub(r'@[A-Za-z0-9]+', '', x))\n",
    "#X_train_raw = X_train_raw.apply(lambda x: \" \".join([re.sub('[^A-Za-z]+','', x)], x\n",
    "                                    \n",
    "#check the result\n",
    "print(\"Train length:\",len(X_train_raw))\n",
    "#print(X_train_raw[2])\n",
    "print(X_test_raw.shape)\n",
    "\n",
    "#separating instance and label for Test\n",
    "\n",
    "#check the result\n",
    "print(\"Test length:\",len(X_test_raw))"
   ]
  },
  {
   "cell_type": "markdown",
   "metadata": {},
   "source": [
    "### Training test splitting"
   ]
  },
  {
   "cell_type": "code",
   "execution_count": 19,
   "metadata": {},
   "outputs": [],
   "source": [
    "# hold out\n",
    "X_train, X_test, y_train, y_test = train_test_split(X_train_raw, Y_train, test_size=0.3, random_state=30)"
   ]
  },
  {
   "cell_type": "code",
   "execution_count": 98,
   "metadata": {},
   "outputs": [],
   "source": [
    "# BoW \n",
    "BoW_vectorizer = CountVectorizer()\n",
    "\n",
    "X_train_BoW = BoW_vectorizer.fit_transform(X_train_raw)\n",
    "X_test_BoW = BoW_vectorizer.transform(X_test_raw)"
   ]
  },
  {
   "cell_type": "code",
   "execution_count": 20,
   "metadata": {},
   "outputs": [],
   "source": [
    "BoW_vectorizer = CountVectorizer()\n",
    "X_train_BoW = BoW_vectorizer.fit_transform(X_train)\n",
    "X_test_BoW = BoW_vectorizer.transform(X_test)"
   ]
  },
  {
   "cell_type": "code",
   "execution_count": 30,
   "metadata": {},
   "outputs": [
    {
     "name": "stdout",
     "output_type": "stream",
     "text": [
      "Accuracy for C=0.01: 0.6268776516454535\n",
      "Accuracy for C=0.05: 0.6557734204793029\n",
      "Accuracy for C=0.25: 0.6596720559568857\n",
      "Accuracy for C=0.5: 0.6573787409700722\n",
      "Accuracy for C=1: 0.6524481137484234\n",
      "Logistic Regression Accuracy: 0.6584107327141383 Time: 1.6770210266113281\n",
      "0.6545120972365555\n"
     ]
    }
   ],
   "source": [
    "for c in [0.01, 0.05, 0.25, 0.5, 1]:\n",
    "    lr = LogisticRegression(C=c)\n",
    "    lr.fit(X_train_BoW, y_train)\n",
    "    print (\"Accuracy for C=%s: %s\" \n",
    "           % (c, accuracy_score(y_test, lr.predict(X_test_BoW))))\n",
    "\n",
    "#Accuracy for C=0.01: 0.6361412628038526\n",
    "#Accuracy for C=0.05: 0.6665647454517658\n",
    "#Accuracy for C=0.25: 0.6734444274575753\n",
    "#Accuracy for C=0.5: 0.6674820363858737\n",
    "#Accuracy for C=1: 0.6589206543341997\n",
    "    \n",
    "model_lr = LogisticRegression(multi_class='ovr')\n",
    "start = time.time()\n",
    "model_lr.fit(X_train_BoW, y_train)\n",
    "end = time.time()\n",
    "t = end - start\n",
    "acc = model_lr.score(X_test_BoW, y_test)\n",
    "print(\"Logistic Regression Accuracy:\", acc, 'Time:', t)\n",
    "\n",
    "mnb = MultinomialNB().fit(X_train_BoW,y_train)\n",
    "print(mnb.score(X_test_BoW, y_test))"
   ]
  },
  {
   "cell_type": "code",
   "execution_count": 13,
   "metadata": {},
   "outputs": [
    {
     "name": "stdout",
     "output_type": "stream",
     "text": [
      "Zero-R Accuracy: 0.5844989681265764 Time: 0.7964978218078613\n",
      "MNB Accuracy: 0.6606282962623251 Time: 24.901389837265015\n",
      "LinearSVC Accuracy: 0.6193533593212566 Time: 11.232507944107056\n",
      "KNN Accuracy: 0.562256363219445 Time: 0.3786146640777588\n",
      "Logistic Regression Accuracy: 0.6599403806466407 Time: 82.65665984153748\n"
     ]
    }
   ],
   "source": [
    "models = [DummyClassifier(strategy='most_frequent'),\n",
    "          MultinomialNB(),\n",
    "          LinearSVC(),\n",
    "          #DecisionTreeClassifier(),\n",
    "          KNeighborsClassifier(),\n",
    "          LogisticRegression()]\n",
    "titles = ['Zero-R',\n",
    "          'MNB',\n",
    "          'LinearSVC',\n",
    "          #'Decision Tree',\n",
    "          'KNN',\n",
    "          'Logistic Regression']\n",
    "\n",
    "for title, model in zip(titles, models):\n",
    "    start = time.time()\n",
    "    model.fit(X_train_BoW.todense(),y_train)\n",
    "    end = time.time()\n",
    "    t = end - start\n",
    "    acc = model.score(X_test_BoW.todense(), y_test)\n",
    "    print(title, \"Accuracy:\",acc, 'Time:', t)"
   ]
  },
  {
   "cell_type": "markdown",
   "metadata": {},
   "source": [
    "Zero-R Accuracy: 0.5882892524078887 Time: 0.4103121757507324\n",
    "\n",
    "MNB Accuracy: 0.6595321816236049 Time: 34.77994894981384\n",
    "\n",
    "LinearSVC Accuracy: 0.6280385262192325 Time: 16.23792409896850\n",
    "\n",
    "Decision Tree Accuracy: 0.5736125974621618 Time: 663.6086249351501\n",
    "\n",
    "KNN Accuracy: 0.5442592875707079 Time: 0.36096811294555664\n",
    "\n",
    "Logistic Regression Accuracy: 0.66243693624828 Time: 77.04826092720032"
   ]
  },
  {
   "cell_type": "markdown",
   "metadata": {},
   "source": [
    "### Feature selecting"
   ]
  },
  {
   "cell_type": "code",
   "execution_count": 32,
   "metadata": {},
   "outputs": [
    {
     "name": "stdout",
     "output_type": "stream",
     "text": [
      "Accuracy for C=0.01: 0.5834193326453389\n",
      "Accuracy for C=0.05: 0.5979818828116041\n",
      "Accuracy for C=0.25: 0.6398348813209495\n",
      "Accuracy for C=0.5: 0.6548560944845775\n",
      "Accuracy for C=1: 0.6594427244582043\n",
      "0.5966058938195161\n",
      "0.6522187822497421\n",
      "0.6594427244582043\n"
     ]
    }
   ],
   "source": [
    "# Tfidf Vectorizer\n",
    "vectorizer= TfidfVectorizer()\n",
    "tf_x_train = vectorizer.fit_transform(X_train)\n",
    "tf_x_test = vectorizer.transform(X_test)\n",
    "\n",
    "for c in [0.01, 0.05, 0.25, 0.5, 1]:\n",
    "    lr = LogisticRegression(C=c)\n",
    "    lr.fit(tf_x_train, y_train)\n",
    "    print (\"Accuracy for C=%s: %s\" \n",
    "           % (c, accuracy_score(y_test, lr.predict(tf_x_test))))\n",
    "    \n",
    "#Accuracy for C=0.01: 0.5882892524078887\n",
    "#Accuracy for C=0.05: 0.6057177801559395\n",
    "#Accuracy for C=0.25: 0.6480660449472557\n",
    "#Accuracy for C=0.5: 0.6648830454059013\n",
    "#Accuracy for C=1: 0.6748203638587372\n",
    "    \n",
    "mnb = MultinomialNB().fit(tf_x_train,y_train)\n",
    "print(mnb.score(tf_x_test, y_test))\n",
    "\n",
    "clf = LinearSVC(random_state=0)\n",
    "clf.fit(tf_x_train,y_train)\n",
    "print(clf.score(tf_x_test, y_test))\n",
    "\n",
    "final_tfidf = LogisticRegression(C=1)\n",
    "final_tfidf.fit(tf_x_train,y_train)\n",
    "print(final_tfidf.score(tf_x_test, y_test))\n",
    "\n",
    "\n",
    "#Build the feature set (vocabulary) and vectorise the Tarin dataset using TFIDF\n",
    "#X_train_tfidf = tfidf_vectorizer.fit_transform(X_train_raw)\n",
    "\n",
    "#Use the feature set (vocabulary) from Train to vectorise the Test dataset \n",
    "#X_test_tfidf = tfidf_vectorizer.transform(X_test_raw)"
   ]
  },
  {
   "cell_type": "code",
   "execution_count": 42,
   "metadata": {},
   "outputs": [],
   "source": [
    "vectorizer= TfidfVectorizer()\n",
    "tf_x_train = vectorizer.fit_transform(X_train_raw)\n",
    "tf_x_test = vectorizer.transform(X_test_raw)"
   ]
  },
  {
   "cell_type": "code",
   "execution_count": 24,
   "metadata": {
    "scrolled": true
   },
   "outputs": [
    {
     "name": "stdout",
     "output_type": "stream",
     "text": [
      "['neutral' 'neutral' 'neutral' ... 'neutral' 'neutral' 'negative']\n"
     ]
    }
   ],
   "source": [
    "vectorizer= TfidfVectorizer()\n",
    "tf_x_train = vectorizer.fit_transform(X_train_raw)\n",
    "tf_x_test = vectorizer.transform(X_test_raw)\n",
    "\n",
    "model_lr = LogisticRegression(multi_class='ovr')\n",
    "model_lr.fit(tf_x_train, Y_train)\n",
    "\n",
    "prediction = model_lr.predict(tf_x_test.todense())\n",
    "\n",
    "print(prediction)\n",
    "pre = pd.DataFrame(prediction, columns=['sentiment'], index = test_data['id'])\n",
    "pre.index.name='id'\n",
    "pre.to_csv(r\"tfidf_prediction_cv.csv\")"
   ]
  },
  {
   "cell_type": "code",
   "execution_count": 40,
   "metadata": {},
   "outputs": [
    {
     "name": "stdout",
     "output_type": "stream",
     "text": [
      "0.6034858387799564\n",
      "0.6634560256851278\n",
      "0.6556587547299622\n"
     ]
    }
   ],
   "source": [
    "kbest = SelectKBest(chi2, k=700).fit(tf_x_train, y_train)\n",
    "kbest_train_X = kbest.transform(tf_x_train)\n",
    "kbest_test_X = kbest.transform(tf_x_test)\n",
    "\n",
    "mnb = MultinomialNB().fit(kbest_train_X,y_train)\n",
    "print(mnb.score(kbest_test_X, y_test))\n",
    "\n",
    "clf = LinearSVC(random_state=0)\n",
    "clf.fit(kbest_train_X,y_train)\n",
    "print(clf.score(kbest_test_X, y_test))\n",
    "\n",
    "final_tfidf = LogisticRegression(C=1)\n",
    "final_tfidf.fit(kbest_train_X,y_train)\n",
    "print(final_tfidf.score(kbest_test_X, y_test))\n",
    "\n",
    "#0.6026831785345718\n",
    "#0.6624240339410618\n",
    "#0.6546267629858961"
   ]
  },
  {
   "cell_type": "code",
   "execution_count": null,
   "metadata": {},
   "outputs": [],
   "source": [
    "kbest = SelectKBest(chi2, k=500).fit(tf_x_train, y_train)\n",
    "kbest_train_X = kbest.transform(tf_x_train)\n",
    "kbest_test_X = kbest.transform(tf_x_test)\n",
    "\n",
    "mnb = MultinomialNB().fit(kbest_train_X,y_train)\n",
    "print(mnb.score(kbest_test_X, y_test))\n",
    "\n",
    "clf = LinearSVC(random_state=0)\n",
    "clf.fit(kbest_train_X,y_train)\n",
    "print(clf.score(kbest_test_X, y_test))\n",
    "\n",
    "final_tfidf = LogisticRegression(C=1)\n",
    "final_tfidf.fit(kbest_train_X,y_train)\n",
    "print(final_tfidf.score(kbest_test_X, y_test))"
   ]
  },
  {
   "cell_type": "code",
   "execution_count": 44,
   "metadata": {},
   "outputs": [
    {
     "name": "stdout",
     "output_type": "stream",
     "text": [
      "(21802, 500)\n",
      "(6099, 500)\n",
      "['neutral' 'neutral' 'neutral' ... 'neutral' 'neutral' 'negative']\n",
      "['neutral' 'neutral' 'neutral' ... 'neutral' 'neutral' 'negative']\n"
     ]
    }
   ],
   "source": [
    "kbest = SelectKBest(chi2, k=500).fit(tf_x_train, Y_train)\n",
    "kbest_train_X = kbest.transform(tf_x_train)\n",
    "kbest_test_X = kbest.transform(tf_x_test)\n",
    "\n",
    "print(kbest_train_X.shape)\n",
    "print(kbest_test_X.shape)\n",
    "model_lr = LogisticRegression(multi_class='ovr')\n",
    "model_lr.fit(kbest_train_X, Y_train)\n",
    "prediction = model_lr.predict(kbest_test_X.todense())\n",
    "\n",
    "print(prediction)\n",
    "pre = pd.DataFrame(prediction, columns=['sentiment'], index = test_data['id'])\n",
    "pre.index.name='id'\n",
    "pre.to_csv(r\"tfidf_lr_prediction_cv.csv\")\n",
    "\n",
    "clf = LinearSVC(random_state=0)\n",
    "clf.fit(kbest_train_X, Y_train)\n",
    "prediction = clf.predict(kbest_test_X.todense())\n",
    "print(prediction)\n",
    "pre = pd.DataFrame(prediction, columns=['sentiment'], index = test_data['id'])\n",
    "pre.index.name='id'\n",
    "pre.to_csv(r\"tfidf_clf_prediction_cv.csv\")"
   ]
  },
  {
   "cell_type": "code",
   "execution_count": 22,
   "metadata": {},
   "outputs": [
    {
     "name": "stdout",
     "output_type": "stream",
     "text": [
      "0.6578766337995873\n",
      "0.6775968814492089\n",
      "0.679202017885806\n"
     ]
    }
   ],
   "source": [
    "mnb = MultinomialNB().fit(kbest_train_X,y_train)\n",
    "print(mnb.score(kbest_test_X, y_test))\n",
    "\n",
    "clf = LinearSVC(random_state=0)\n",
    "clf.fit(kbest_train_X,y_train)\n",
    "print(clf.score(kbest_test_X, y_test))\n",
    "\n",
    "final_tfidf = LogisticRegression(C=1)\n",
    "model_lr.fit(kbest_train_X,y_train)\n",
    "print(model_lr.score(kbest_test_X, y_test))"
   ]
  },
  {
   "cell_type": "code",
   "execution_count": 40,
   "metadata": {
    "scrolled": true
   },
   "outputs": [
    {
     "name": "stdout",
     "output_type": "stream",
     "text": [
      "(28540, 2)\n"
     ]
    }
   ],
   "source": [
    "# save the created vocabulary for the given dataset in a separate file\n",
    "\n",
    "vocab_dict = BoW_vectorizer.vocabulary_\n",
    "output_pd = pd.DataFrame(list(vocab_dict.items()),columns = ['word','count'])\n",
    "output_pd.T.to_csv('BoW-vocab.csv',index=False)"
   ]
  },
  {
   "cell_type": "code",
   "execution_count": 21,
   "metadata": {},
   "outputs": [],
   "source": [
    "kbest = SelectKBest(chi2, k=500).fit(X_train_BoW, y_train)\n",
    "kbest_train_X = kbest.transform(X_train_BoW)\n",
    "kbest_test_X = kbest.transform(X_test_BoW)\n",
    "\n",
    "x_train = kbest_train_X\n",
    "x_test = kbest_test_X\n",
    "#y_train and y_test remains the same using random state 30"
   ]
  },
  {
   "cell_type": "code",
   "execution_count": 100,
   "metadata": {},
   "outputs": [],
   "source": [
    "kbest = SelectKBest(chi2, k=500).fit(X_train_BoW, Y_train)\n",
    "kbest_train_X = kbest.transform(X_train_BoW)\n",
    "kbest_test_X = kbest.transform(X_test_BoW)"
   ]
  },
  {
   "cell_type": "markdown",
   "metadata": {},
   "source": [
    "### Model Adapting"
   ]
  },
  {
   "cell_type": "code",
   "execution_count": 17,
   "metadata": {},
   "outputs": [
    {
     "name": "stdout",
     "output_type": "stream",
     "text": [
      "LinearSVC Accuracy: 0.6790325462131005 time: 48.78031897544861\n"
     ]
    },
    {
     "ename": "KeyboardInterrupt",
     "evalue": "",
     "output_type": "error",
     "traceback": [
      "\u001b[0;31m---------------------------------------------------------------------------\u001b[0m",
      "\u001b[0;31mKeyboardInterrupt\u001b[0m                         Traceback (most recent call last)",
      "Input \u001b[0;32mIn [17]\u001b[0m, in \u001b[0;36m<cell line: 11>\u001b[0;34m()\u001b[0m\n\u001b[1;32m     11\u001b[0m \u001b[38;5;28;01mfor\u001b[39;00m title, model \u001b[38;5;129;01min\u001b[39;00m \u001b[38;5;28mzip\u001b[39m(titles, models):\n\u001b[1;32m     12\u001b[0m     start \u001b[38;5;241m=\u001b[39m time\u001b[38;5;241m.\u001b[39mtime()\n\u001b[0;32m---> 13\u001b[0m     acc \u001b[38;5;241m=\u001b[39m np\u001b[38;5;241m.\u001b[39mmean(\u001b[43mcross_val_score\u001b[49m\u001b[43m(\u001b[49m\u001b[43mmodel\u001b[49m\u001b[43m,\u001b[49m\u001b[43m \u001b[49m\u001b[43mx_train\u001b[49m\u001b[43m,\u001b[49m\u001b[43m \u001b[49m\u001b[43my_train\u001b[49m\u001b[43m,\u001b[49m\u001b[43m \u001b[49m\u001b[43mcv\u001b[49m\u001b[38;5;241;43m=\u001b[39;49m\u001b[38;5;241;43m20\u001b[39;49m\u001b[43m)\u001b[49m)\n\u001b[1;32m     14\u001b[0m     end \u001b[38;5;241m=\u001b[39m time\u001b[38;5;241m.\u001b[39mtime()\n\u001b[1;32m     15\u001b[0m     t \u001b[38;5;241m=\u001b[39m end \u001b[38;5;241m-\u001b[39m start\n",
      "File \u001b[0;32m/usr/local/lib/python3.9/site-packages/sklearn/model_selection/_validation.py:509\u001b[0m, in \u001b[0;36mcross_val_score\u001b[0;34m(estimator, X, y, groups, scoring, cv, n_jobs, verbose, fit_params, pre_dispatch, error_score)\u001b[0m\n\u001b[1;32m    506\u001b[0m \u001b[38;5;66;03m# To ensure multimetric format is not supported\u001b[39;00m\n\u001b[1;32m    507\u001b[0m scorer \u001b[38;5;241m=\u001b[39m check_scoring(estimator, scoring\u001b[38;5;241m=\u001b[39mscoring)\n\u001b[0;32m--> 509\u001b[0m cv_results \u001b[38;5;241m=\u001b[39m \u001b[43mcross_validate\u001b[49m\u001b[43m(\u001b[49m\n\u001b[1;32m    510\u001b[0m \u001b[43m    \u001b[49m\u001b[43mestimator\u001b[49m\u001b[38;5;241;43m=\u001b[39;49m\u001b[43mestimator\u001b[49m\u001b[43m,\u001b[49m\n\u001b[1;32m    511\u001b[0m \u001b[43m    \u001b[49m\u001b[43mX\u001b[49m\u001b[38;5;241;43m=\u001b[39;49m\u001b[43mX\u001b[49m\u001b[43m,\u001b[49m\n\u001b[1;32m    512\u001b[0m \u001b[43m    \u001b[49m\u001b[43my\u001b[49m\u001b[38;5;241;43m=\u001b[39;49m\u001b[43my\u001b[49m\u001b[43m,\u001b[49m\n\u001b[1;32m    513\u001b[0m \u001b[43m    \u001b[49m\u001b[43mgroups\u001b[49m\u001b[38;5;241;43m=\u001b[39;49m\u001b[43mgroups\u001b[49m\u001b[43m,\u001b[49m\n\u001b[1;32m    514\u001b[0m \u001b[43m    \u001b[49m\u001b[43mscoring\u001b[49m\u001b[38;5;241;43m=\u001b[39;49m\u001b[43m{\u001b[49m\u001b[38;5;124;43m\"\u001b[39;49m\u001b[38;5;124;43mscore\u001b[39;49m\u001b[38;5;124;43m\"\u001b[39;49m\u001b[43m:\u001b[49m\u001b[43m \u001b[49m\u001b[43mscorer\u001b[49m\u001b[43m}\u001b[49m\u001b[43m,\u001b[49m\n\u001b[1;32m    515\u001b[0m \u001b[43m    \u001b[49m\u001b[43mcv\u001b[49m\u001b[38;5;241;43m=\u001b[39;49m\u001b[43mcv\u001b[49m\u001b[43m,\u001b[49m\n\u001b[1;32m    516\u001b[0m \u001b[43m    \u001b[49m\u001b[43mn_jobs\u001b[49m\u001b[38;5;241;43m=\u001b[39;49m\u001b[43mn_jobs\u001b[49m\u001b[43m,\u001b[49m\n\u001b[1;32m    517\u001b[0m \u001b[43m    \u001b[49m\u001b[43mverbose\u001b[49m\u001b[38;5;241;43m=\u001b[39;49m\u001b[43mverbose\u001b[49m\u001b[43m,\u001b[49m\n\u001b[1;32m    518\u001b[0m \u001b[43m    \u001b[49m\u001b[43mfit_params\u001b[49m\u001b[38;5;241;43m=\u001b[39;49m\u001b[43mfit_params\u001b[49m\u001b[43m,\u001b[49m\n\u001b[1;32m    519\u001b[0m \u001b[43m    \u001b[49m\u001b[43mpre_dispatch\u001b[49m\u001b[38;5;241;43m=\u001b[39;49m\u001b[43mpre_dispatch\u001b[49m\u001b[43m,\u001b[49m\n\u001b[1;32m    520\u001b[0m \u001b[43m    \u001b[49m\u001b[43merror_score\u001b[49m\u001b[38;5;241;43m=\u001b[39;49m\u001b[43merror_score\u001b[49m\u001b[43m,\u001b[49m\n\u001b[1;32m    521\u001b[0m \u001b[43m\u001b[49m\u001b[43m)\u001b[49m\n\u001b[1;32m    522\u001b[0m \u001b[38;5;28;01mreturn\u001b[39;00m cv_results[\u001b[38;5;124m\"\u001b[39m\u001b[38;5;124mtest_score\u001b[39m\u001b[38;5;124m\"\u001b[39m]\n",
      "File \u001b[0;32m/usr/local/lib/python3.9/site-packages/sklearn/model_selection/_validation.py:267\u001b[0m, in \u001b[0;36mcross_validate\u001b[0;34m(estimator, X, y, groups, scoring, cv, n_jobs, verbose, fit_params, pre_dispatch, return_train_score, return_estimator, error_score)\u001b[0m\n\u001b[1;32m    264\u001b[0m \u001b[38;5;66;03m# We clone the estimator to make sure that all the folds are\u001b[39;00m\n\u001b[1;32m    265\u001b[0m \u001b[38;5;66;03m# independent, and that it is pickle-able.\u001b[39;00m\n\u001b[1;32m    266\u001b[0m parallel \u001b[38;5;241m=\u001b[39m Parallel(n_jobs\u001b[38;5;241m=\u001b[39mn_jobs, verbose\u001b[38;5;241m=\u001b[39mverbose, pre_dispatch\u001b[38;5;241m=\u001b[39mpre_dispatch)\n\u001b[0;32m--> 267\u001b[0m results \u001b[38;5;241m=\u001b[39m \u001b[43mparallel\u001b[49m\u001b[43m(\u001b[49m\n\u001b[1;32m    268\u001b[0m \u001b[43m    \u001b[49m\u001b[43mdelayed\u001b[49m\u001b[43m(\u001b[49m\u001b[43m_fit_and_score\u001b[49m\u001b[43m)\u001b[49m\u001b[43m(\u001b[49m\n\u001b[1;32m    269\u001b[0m \u001b[43m        \u001b[49m\u001b[43mclone\u001b[49m\u001b[43m(\u001b[49m\u001b[43mestimator\u001b[49m\u001b[43m)\u001b[49m\u001b[43m,\u001b[49m\n\u001b[1;32m    270\u001b[0m \u001b[43m        \u001b[49m\u001b[43mX\u001b[49m\u001b[43m,\u001b[49m\n\u001b[1;32m    271\u001b[0m \u001b[43m        \u001b[49m\u001b[43my\u001b[49m\u001b[43m,\u001b[49m\n\u001b[1;32m    272\u001b[0m \u001b[43m        \u001b[49m\u001b[43mscorers\u001b[49m\u001b[43m,\u001b[49m\n\u001b[1;32m    273\u001b[0m \u001b[43m        \u001b[49m\u001b[43mtrain\u001b[49m\u001b[43m,\u001b[49m\n\u001b[1;32m    274\u001b[0m \u001b[43m        \u001b[49m\u001b[43mtest\u001b[49m\u001b[43m,\u001b[49m\n\u001b[1;32m    275\u001b[0m \u001b[43m        \u001b[49m\u001b[43mverbose\u001b[49m\u001b[43m,\u001b[49m\n\u001b[1;32m    276\u001b[0m \u001b[43m        \u001b[49m\u001b[38;5;28;43;01mNone\u001b[39;49;00m\u001b[43m,\u001b[49m\n\u001b[1;32m    277\u001b[0m \u001b[43m        \u001b[49m\u001b[43mfit_params\u001b[49m\u001b[43m,\u001b[49m\n\u001b[1;32m    278\u001b[0m \u001b[43m        \u001b[49m\u001b[43mreturn_train_score\u001b[49m\u001b[38;5;241;43m=\u001b[39;49m\u001b[43mreturn_train_score\u001b[49m\u001b[43m,\u001b[49m\n\u001b[1;32m    279\u001b[0m \u001b[43m        \u001b[49m\u001b[43mreturn_times\u001b[49m\u001b[38;5;241;43m=\u001b[39;49m\u001b[38;5;28;43;01mTrue\u001b[39;49;00m\u001b[43m,\u001b[49m\n\u001b[1;32m    280\u001b[0m \u001b[43m        \u001b[49m\u001b[43mreturn_estimator\u001b[49m\u001b[38;5;241;43m=\u001b[39;49m\u001b[43mreturn_estimator\u001b[49m\u001b[43m,\u001b[49m\n\u001b[1;32m    281\u001b[0m \u001b[43m        \u001b[49m\u001b[43merror_score\u001b[49m\u001b[38;5;241;43m=\u001b[39;49m\u001b[43merror_score\u001b[49m\u001b[43m,\u001b[49m\n\u001b[1;32m    282\u001b[0m \u001b[43m    \u001b[49m\u001b[43m)\u001b[49m\n\u001b[1;32m    283\u001b[0m \u001b[43m    \u001b[49m\u001b[38;5;28;43;01mfor\u001b[39;49;00m\u001b[43m \u001b[49m\u001b[43mtrain\u001b[49m\u001b[43m,\u001b[49m\u001b[43m \u001b[49m\u001b[43mtest\u001b[49m\u001b[43m \u001b[49m\u001b[38;5;129;43;01min\u001b[39;49;00m\u001b[43m \u001b[49m\u001b[43mcv\u001b[49m\u001b[38;5;241;43m.\u001b[39;49m\u001b[43msplit\u001b[49m\u001b[43m(\u001b[49m\u001b[43mX\u001b[49m\u001b[43m,\u001b[49m\u001b[43m \u001b[49m\u001b[43my\u001b[49m\u001b[43m,\u001b[49m\u001b[43m \u001b[49m\u001b[43mgroups\u001b[49m\u001b[43m)\u001b[49m\n\u001b[1;32m    284\u001b[0m \u001b[43m\u001b[49m\u001b[43m)\u001b[49m\n\u001b[1;32m    286\u001b[0m _warn_about_fit_failures(results, error_score)\n\u001b[1;32m    288\u001b[0m \u001b[38;5;66;03m# For callabe scoring, the return type is only know after calling. If the\u001b[39;00m\n\u001b[1;32m    289\u001b[0m \u001b[38;5;66;03m# return type is a dictionary, the error scores can now be inserted with\u001b[39;00m\n\u001b[1;32m    290\u001b[0m \u001b[38;5;66;03m# the correct key.\u001b[39;00m\n",
      "File \u001b[0;32m/usr/local/lib/python3.9/site-packages/joblib/parallel.py:1046\u001b[0m, in \u001b[0;36mParallel.__call__\u001b[0;34m(self, iterable)\u001b[0m\n\u001b[1;32m   1043\u001b[0m \u001b[38;5;28;01mif\u001b[39;00m \u001b[38;5;28mself\u001b[39m\u001b[38;5;241m.\u001b[39mdispatch_one_batch(iterator):\n\u001b[1;32m   1044\u001b[0m     \u001b[38;5;28mself\u001b[39m\u001b[38;5;241m.\u001b[39m_iterating \u001b[38;5;241m=\u001b[39m \u001b[38;5;28mself\u001b[39m\u001b[38;5;241m.\u001b[39m_original_iterator \u001b[38;5;129;01mis\u001b[39;00m \u001b[38;5;129;01mnot\u001b[39;00m \u001b[38;5;28;01mNone\u001b[39;00m\n\u001b[0;32m-> 1046\u001b[0m \u001b[38;5;28;01mwhile\u001b[39;00m \u001b[38;5;28;43mself\u001b[39;49m\u001b[38;5;241;43m.\u001b[39;49m\u001b[43mdispatch_one_batch\u001b[49m\u001b[43m(\u001b[49m\u001b[43miterator\u001b[49m\u001b[43m)\u001b[49m:\n\u001b[1;32m   1047\u001b[0m     \u001b[38;5;28;01mpass\u001b[39;00m\n\u001b[1;32m   1049\u001b[0m \u001b[38;5;28;01mif\u001b[39;00m pre_dispatch \u001b[38;5;241m==\u001b[39m \u001b[38;5;124m\"\u001b[39m\u001b[38;5;124mall\u001b[39m\u001b[38;5;124m\"\u001b[39m \u001b[38;5;129;01mor\u001b[39;00m n_jobs \u001b[38;5;241m==\u001b[39m \u001b[38;5;241m1\u001b[39m:\n\u001b[1;32m   1050\u001b[0m     \u001b[38;5;66;03m# The iterable was consumed all at once by the above for loop.\u001b[39;00m\n\u001b[1;32m   1051\u001b[0m     \u001b[38;5;66;03m# No need to wait for async callbacks to trigger to\u001b[39;00m\n\u001b[1;32m   1052\u001b[0m     \u001b[38;5;66;03m# consumption.\u001b[39;00m\n",
      "File \u001b[0;32m/usr/local/lib/python3.9/site-packages/joblib/parallel.py:861\u001b[0m, in \u001b[0;36mParallel.dispatch_one_batch\u001b[0;34m(self, iterator)\u001b[0m\n\u001b[1;32m    859\u001b[0m     \u001b[38;5;28;01mreturn\u001b[39;00m \u001b[38;5;28;01mFalse\u001b[39;00m\n\u001b[1;32m    860\u001b[0m \u001b[38;5;28;01melse\u001b[39;00m:\n\u001b[0;32m--> 861\u001b[0m     \u001b[38;5;28;43mself\u001b[39;49m\u001b[38;5;241;43m.\u001b[39;49m\u001b[43m_dispatch\u001b[49m\u001b[43m(\u001b[49m\u001b[43mtasks\u001b[49m\u001b[43m)\u001b[49m\n\u001b[1;32m    862\u001b[0m     \u001b[38;5;28;01mreturn\u001b[39;00m \u001b[38;5;28;01mTrue\u001b[39;00m\n",
      "File \u001b[0;32m/usr/local/lib/python3.9/site-packages/joblib/parallel.py:779\u001b[0m, in \u001b[0;36mParallel._dispatch\u001b[0;34m(self, batch)\u001b[0m\n\u001b[1;32m    777\u001b[0m \u001b[38;5;28;01mwith\u001b[39;00m \u001b[38;5;28mself\u001b[39m\u001b[38;5;241m.\u001b[39m_lock:\n\u001b[1;32m    778\u001b[0m     job_idx \u001b[38;5;241m=\u001b[39m \u001b[38;5;28mlen\u001b[39m(\u001b[38;5;28mself\u001b[39m\u001b[38;5;241m.\u001b[39m_jobs)\n\u001b[0;32m--> 779\u001b[0m     job \u001b[38;5;241m=\u001b[39m \u001b[38;5;28;43mself\u001b[39;49m\u001b[38;5;241;43m.\u001b[39;49m\u001b[43m_backend\u001b[49m\u001b[38;5;241;43m.\u001b[39;49m\u001b[43mapply_async\u001b[49m\u001b[43m(\u001b[49m\u001b[43mbatch\u001b[49m\u001b[43m,\u001b[49m\u001b[43m \u001b[49m\u001b[43mcallback\u001b[49m\u001b[38;5;241;43m=\u001b[39;49m\u001b[43mcb\u001b[49m\u001b[43m)\u001b[49m\n\u001b[1;32m    780\u001b[0m     \u001b[38;5;66;03m# A job can complete so quickly than its callback is\u001b[39;00m\n\u001b[1;32m    781\u001b[0m     \u001b[38;5;66;03m# called before we get here, causing self._jobs to\u001b[39;00m\n\u001b[1;32m    782\u001b[0m     \u001b[38;5;66;03m# grow. To ensure correct results ordering, .insert is\u001b[39;00m\n\u001b[1;32m    783\u001b[0m     \u001b[38;5;66;03m# used (rather than .append) in the following line\u001b[39;00m\n\u001b[1;32m    784\u001b[0m     \u001b[38;5;28mself\u001b[39m\u001b[38;5;241m.\u001b[39m_jobs\u001b[38;5;241m.\u001b[39minsert(job_idx, job)\n",
      "File \u001b[0;32m/usr/local/lib/python3.9/site-packages/joblib/_parallel_backends.py:208\u001b[0m, in \u001b[0;36mSequentialBackend.apply_async\u001b[0;34m(self, func, callback)\u001b[0m\n\u001b[1;32m    206\u001b[0m \u001b[38;5;28;01mdef\u001b[39;00m \u001b[38;5;21mapply_async\u001b[39m(\u001b[38;5;28mself\u001b[39m, func, callback\u001b[38;5;241m=\u001b[39m\u001b[38;5;28;01mNone\u001b[39;00m):\n\u001b[1;32m    207\u001b[0m     \u001b[38;5;124;03m\"\"\"Schedule a func to be run\"\"\"\u001b[39;00m\n\u001b[0;32m--> 208\u001b[0m     result \u001b[38;5;241m=\u001b[39m \u001b[43mImmediateResult\u001b[49m\u001b[43m(\u001b[49m\u001b[43mfunc\u001b[49m\u001b[43m)\u001b[49m\n\u001b[1;32m    209\u001b[0m     \u001b[38;5;28;01mif\u001b[39;00m callback:\n\u001b[1;32m    210\u001b[0m         callback(result)\n",
      "File \u001b[0;32m/usr/local/lib/python3.9/site-packages/joblib/_parallel_backends.py:572\u001b[0m, in \u001b[0;36mImmediateResult.__init__\u001b[0;34m(self, batch)\u001b[0m\n\u001b[1;32m    569\u001b[0m \u001b[38;5;28;01mdef\u001b[39;00m \u001b[38;5;21m__init__\u001b[39m(\u001b[38;5;28mself\u001b[39m, batch):\n\u001b[1;32m    570\u001b[0m     \u001b[38;5;66;03m# Don't delay the application, to avoid keeping the input\u001b[39;00m\n\u001b[1;32m    571\u001b[0m     \u001b[38;5;66;03m# arguments in memory\u001b[39;00m\n\u001b[0;32m--> 572\u001b[0m     \u001b[38;5;28mself\u001b[39m\u001b[38;5;241m.\u001b[39mresults \u001b[38;5;241m=\u001b[39m \u001b[43mbatch\u001b[49m\u001b[43m(\u001b[49m\u001b[43m)\u001b[49m\n",
      "File \u001b[0;32m/usr/local/lib/python3.9/site-packages/joblib/parallel.py:262\u001b[0m, in \u001b[0;36mBatchedCalls.__call__\u001b[0;34m(self)\u001b[0m\n\u001b[1;32m    258\u001b[0m \u001b[38;5;28;01mdef\u001b[39;00m \u001b[38;5;21m__call__\u001b[39m(\u001b[38;5;28mself\u001b[39m):\n\u001b[1;32m    259\u001b[0m     \u001b[38;5;66;03m# Set the default nested backend to self._backend but do not set the\u001b[39;00m\n\u001b[1;32m    260\u001b[0m     \u001b[38;5;66;03m# change the default number of processes to -1\u001b[39;00m\n\u001b[1;32m    261\u001b[0m     \u001b[38;5;28;01mwith\u001b[39;00m parallel_backend(\u001b[38;5;28mself\u001b[39m\u001b[38;5;241m.\u001b[39m_backend, n_jobs\u001b[38;5;241m=\u001b[39m\u001b[38;5;28mself\u001b[39m\u001b[38;5;241m.\u001b[39m_n_jobs):\n\u001b[0;32m--> 262\u001b[0m         \u001b[38;5;28;01mreturn\u001b[39;00m [func(\u001b[38;5;241m*\u001b[39margs, \u001b[38;5;241m*\u001b[39m\u001b[38;5;241m*\u001b[39mkwargs)\n\u001b[1;32m    263\u001b[0m                 \u001b[38;5;28;01mfor\u001b[39;00m func, args, kwargs \u001b[38;5;129;01min\u001b[39;00m \u001b[38;5;28mself\u001b[39m\u001b[38;5;241m.\u001b[39mitems]\n",
      "File \u001b[0;32m/usr/local/lib/python3.9/site-packages/joblib/parallel.py:262\u001b[0m, in \u001b[0;36m<listcomp>\u001b[0;34m(.0)\u001b[0m\n\u001b[1;32m    258\u001b[0m \u001b[38;5;28;01mdef\u001b[39;00m \u001b[38;5;21m__call__\u001b[39m(\u001b[38;5;28mself\u001b[39m):\n\u001b[1;32m    259\u001b[0m     \u001b[38;5;66;03m# Set the default nested backend to self._backend but do not set the\u001b[39;00m\n\u001b[1;32m    260\u001b[0m     \u001b[38;5;66;03m# change the default number of processes to -1\u001b[39;00m\n\u001b[1;32m    261\u001b[0m     \u001b[38;5;28;01mwith\u001b[39;00m parallel_backend(\u001b[38;5;28mself\u001b[39m\u001b[38;5;241m.\u001b[39m_backend, n_jobs\u001b[38;5;241m=\u001b[39m\u001b[38;5;28mself\u001b[39m\u001b[38;5;241m.\u001b[39m_n_jobs):\n\u001b[0;32m--> 262\u001b[0m         \u001b[38;5;28;01mreturn\u001b[39;00m [\u001b[43mfunc\u001b[49m\u001b[43m(\u001b[49m\u001b[38;5;241;43m*\u001b[39;49m\u001b[43margs\u001b[49m\u001b[43m,\u001b[49m\u001b[43m \u001b[49m\u001b[38;5;241;43m*\u001b[39;49m\u001b[38;5;241;43m*\u001b[39;49m\u001b[43mkwargs\u001b[49m\u001b[43m)\u001b[49m\n\u001b[1;32m    263\u001b[0m                 \u001b[38;5;28;01mfor\u001b[39;00m func, args, kwargs \u001b[38;5;129;01min\u001b[39;00m \u001b[38;5;28mself\u001b[39m\u001b[38;5;241m.\u001b[39mitems]\n",
      "File \u001b[0;32m/usr/local/lib/python3.9/site-packages/sklearn/utils/fixes.py:216\u001b[0m, in \u001b[0;36m_FuncWrapper.__call__\u001b[0;34m(self, *args, **kwargs)\u001b[0m\n\u001b[1;32m    214\u001b[0m \u001b[38;5;28;01mdef\u001b[39;00m \u001b[38;5;21m__call__\u001b[39m(\u001b[38;5;28mself\u001b[39m, \u001b[38;5;241m*\u001b[39margs, \u001b[38;5;241m*\u001b[39m\u001b[38;5;241m*\u001b[39mkwargs):\n\u001b[1;32m    215\u001b[0m     \u001b[38;5;28;01mwith\u001b[39;00m config_context(\u001b[38;5;241m*\u001b[39m\u001b[38;5;241m*\u001b[39m\u001b[38;5;28mself\u001b[39m\u001b[38;5;241m.\u001b[39mconfig):\n\u001b[0;32m--> 216\u001b[0m         \u001b[38;5;28;01mreturn\u001b[39;00m \u001b[38;5;28;43mself\u001b[39;49m\u001b[38;5;241;43m.\u001b[39;49m\u001b[43mfunction\u001b[49m\u001b[43m(\u001b[49m\u001b[38;5;241;43m*\u001b[39;49m\u001b[43margs\u001b[49m\u001b[43m,\u001b[49m\u001b[43m \u001b[49m\u001b[38;5;241;43m*\u001b[39;49m\u001b[38;5;241;43m*\u001b[39;49m\u001b[43mkwargs\u001b[49m\u001b[43m)\u001b[49m\n",
      "File \u001b[0;32m/usr/local/lib/python3.9/site-packages/sklearn/model_selection/_validation.py:680\u001b[0m, in \u001b[0;36m_fit_and_score\u001b[0;34m(estimator, X, y, scorer, train, test, verbose, parameters, fit_params, return_train_score, return_parameters, return_n_test_samples, return_times, return_estimator, split_progress, candidate_progress, error_score)\u001b[0m\n\u001b[1;32m    678\u001b[0m         estimator\u001b[38;5;241m.\u001b[39mfit(X_train, \u001b[38;5;241m*\u001b[39m\u001b[38;5;241m*\u001b[39mfit_params)\n\u001b[1;32m    679\u001b[0m     \u001b[38;5;28;01melse\u001b[39;00m:\n\u001b[0;32m--> 680\u001b[0m         \u001b[43mestimator\u001b[49m\u001b[38;5;241;43m.\u001b[39;49m\u001b[43mfit\u001b[49m\u001b[43m(\u001b[49m\u001b[43mX_train\u001b[49m\u001b[43m,\u001b[49m\u001b[43m \u001b[49m\u001b[43my_train\u001b[49m\u001b[43m,\u001b[49m\u001b[43m \u001b[49m\u001b[38;5;241;43m*\u001b[39;49m\u001b[38;5;241;43m*\u001b[39;49m\u001b[43mfit_params\u001b[49m\u001b[43m)\u001b[49m\n\u001b[1;32m    682\u001b[0m \u001b[38;5;28;01mexcept\u001b[39;00m \u001b[38;5;167;01mException\u001b[39;00m:\n\u001b[1;32m    683\u001b[0m     \u001b[38;5;66;03m# Note fit time as time until error\u001b[39;00m\n\u001b[1;32m    684\u001b[0m     fit_time \u001b[38;5;241m=\u001b[39m time\u001b[38;5;241m.\u001b[39mtime() \u001b[38;5;241m-\u001b[39m start_time\n",
      "File \u001b[0;32m/usr/local/lib/python3.9/site-packages/sklearn/tree/_classes.py:937\u001b[0m, in \u001b[0;36mDecisionTreeClassifier.fit\u001b[0;34m(self, X, y, sample_weight, check_input, X_idx_sorted)\u001b[0m\n\u001b[1;32m    899\u001b[0m \u001b[38;5;28;01mdef\u001b[39;00m \u001b[38;5;21mfit\u001b[39m(\n\u001b[1;32m    900\u001b[0m     \u001b[38;5;28mself\u001b[39m, X, y, sample_weight\u001b[38;5;241m=\u001b[39m\u001b[38;5;28;01mNone\u001b[39;00m, check_input\u001b[38;5;241m=\u001b[39m\u001b[38;5;28;01mTrue\u001b[39;00m, X_idx_sorted\u001b[38;5;241m=\u001b[39m\u001b[38;5;124m\"\u001b[39m\u001b[38;5;124mdeprecated\u001b[39m\u001b[38;5;124m\"\u001b[39m\n\u001b[1;32m    901\u001b[0m ):\n\u001b[1;32m    902\u001b[0m     \u001b[38;5;124;03m\"\"\"Build a decision tree classifier from the training set (X, y).\u001b[39;00m\n\u001b[1;32m    903\u001b[0m \n\u001b[1;32m    904\u001b[0m \u001b[38;5;124;03m    Parameters\u001b[39;00m\n\u001b[0;32m   (...)\u001b[0m\n\u001b[1;32m    934\u001b[0m \u001b[38;5;124;03m        Fitted estimator.\u001b[39;00m\n\u001b[1;32m    935\u001b[0m \u001b[38;5;124;03m    \"\"\"\u001b[39;00m\n\u001b[0;32m--> 937\u001b[0m     \u001b[38;5;28;43msuper\u001b[39;49m\u001b[43m(\u001b[49m\u001b[43m)\u001b[49m\u001b[38;5;241;43m.\u001b[39;49m\u001b[43mfit\u001b[49m\u001b[43m(\u001b[49m\n\u001b[1;32m    938\u001b[0m \u001b[43m        \u001b[49m\u001b[43mX\u001b[49m\u001b[43m,\u001b[49m\n\u001b[1;32m    939\u001b[0m \u001b[43m        \u001b[49m\u001b[43my\u001b[49m\u001b[43m,\u001b[49m\n\u001b[1;32m    940\u001b[0m \u001b[43m        \u001b[49m\u001b[43msample_weight\u001b[49m\u001b[38;5;241;43m=\u001b[39;49m\u001b[43msample_weight\u001b[49m\u001b[43m,\u001b[49m\n\u001b[1;32m    941\u001b[0m \u001b[43m        \u001b[49m\u001b[43mcheck_input\u001b[49m\u001b[38;5;241;43m=\u001b[39;49m\u001b[43mcheck_input\u001b[49m\u001b[43m,\u001b[49m\n\u001b[1;32m    942\u001b[0m \u001b[43m        \u001b[49m\u001b[43mX_idx_sorted\u001b[49m\u001b[38;5;241;43m=\u001b[39;49m\u001b[43mX_idx_sorted\u001b[49m\u001b[43m,\u001b[49m\n\u001b[1;32m    943\u001b[0m \u001b[43m    \u001b[49m\u001b[43m)\u001b[49m\n\u001b[1;32m    944\u001b[0m     \u001b[38;5;28;01mreturn\u001b[39;00m \u001b[38;5;28mself\u001b[39m\n",
      "File \u001b[0;32m/usr/local/lib/python3.9/site-packages/sklearn/tree/_classes.py:420\u001b[0m, in \u001b[0;36mBaseDecisionTree.fit\u001b[0;34m(self, X, y, sample_weight, check_input, X_idx_sorted)\u001b[0m\n\u001b[1;32m    409\u001b[0m \u001b[38;5;28;01melse\u001b[39;00m:\n\u001b[1;32m    410\u001b[0m     builder \u001b[38;5;241m=\u001b[39m BestFirstTreeBuilder(\n\u001b[1;32m    411\u001b[0m         splitter,\n\u001b[1;32m    412\u001b[0m         min_samples_split,\n\u001b[0;32m   (...)\u001b[0m\n\u001b[1;32m    417\u001b[0m         \u001b[38;5;28mself\u001b[39m\u001b[38;5;241m.\u001b[39mmin_impurity_decrease,\n\u001b[1;32m    418\u001b[0m     )\n\u001b[0;32m--> 420\u001b[0m \u001b[43mbuilder\u001b[49m\u001b[38;5;241;43m.\u001b[39;49m\u001b[43mbuild\u001b[49m\u001b[43m(\u001b[49m\u001b[38;5;28;43mself\u001b[39;49m\u001b[38;5;241;43m.\u001b[39;49m\u001b[43mtree_\u001b[49m\u001b[43m,\u001b[49m\u001b[43m \u001b[49m\u001b[43mX\u001b[49m\u001b[43m,\u001b[49m\u001b[43m \u001b[49m\u001b[43my\u001b[49m\u001b[43m,\u001b[49m\u001b[43m \u001b[49m\u001b[43msample_weight\u001b[49m\u001b[43m)\u001b[49m\n\u001b[1;32m    422\u001b[0m \u001b[38;5;28;01mif\u001b[39;00m \u001b[38;5;28mself\u001b[39m\u001b[38;5;241m.\u001b[39mn_outputs_ \u001b[38;5;241m==\u001b[39m \u001b[38;5;241m1\u001b[39m \u001b[38;5;129;01mand\u001b[39;00m is_classifier(\u001b[38;5;28mself\u001b[39m):\n\u001b[1;32m    423\u001b[0m     \u001b[38;5;28mself\u001b[39m\u001b[38;5;241m.\u001b[39mn_classes_ \u001b[38;5;241m=\u001b[39m \u001b[38;5;28mself\u001b[39m\u001b[38;5;241m.\u001b[39mn_classes_[\u001b[38;5;241m0\u001b[39m]\n",
      "\u001b[0;31mKeyboardInterrupt\u001b[0m: "
     ]
    }
   ],
   "source": [
    "# Use the 10_fold_Cross_Validation with 4 models(LinearSVC, Decision Tree, KNN, Logistic Regression)\n",
    "models = [LinearSVC(),\n",
    "          DecisionTreeClassifier(),\n",
    "          KNeighborsClassifier(),\n",
    "          LogisticRegression()]\n",
    "titles = ['LinearSVC',\n",
    "          'Decision Tree',\n",
    "          'KNN',\n",
    "          'Logistic Regression']\n",
    "\n",
    "for title, model in zip(titles, models):\n",
    "    start = time.time()\n",
    "    acc = np.mean(cross_val_score(model, x_train, y_train, cv=20))\n",
    "    end = time.time()\n",
    "    t = end - start\n",
    "    print(title, \"Accuracy:\", acc, 'time:', t)\n",
    "    \n",
    "for title, model in zip(titles, models):\n",
    "    start = time.time()\n",
    "    acc = np.mean(cross_val_score(model, x_test, y_test, cv=20))\n",
    "    end = time.time()\n",
    "    t = end - start\n",
    "    print(title, \"Accuracy:\", acc, 'time:', t)"
   ]
  },
  {
   "cell_type": "code",
   "execution_count": 13,
   "metadata": {},
   "outputs": [
    {
     "name": "stderr",
     "output_type": "stream",
     "text": [
      "[Parallel(n_jobs=-1)]: Using backend LokyBackend with 8 concurrent workers.\n",
      "[Parallel(n_jobs=-1)]: Done   3 out of  50 | elapsed:    2.1s remaining:   32.4s\n",
      "[Parallel(n_jobs=-1)]: Done   9 out of  50 | elapsed:    5.5s remaining:   24.9s\n",
      "/usr/local/lib/python3.9/site-packages/sklearn/svm/_base.py:1206: ConvergenceWarning: Liblinear failed to converge, increase the number of iterations.\n",
      "  warnings.warn(\n",
      "/usr/local/lib/python3.9/site-packages/sklearn/svm/_base.py:1206: ConvergenceWarning: Liblinear failed to converge, increase the number of iterations.\n",
      "  warnings.warn(\n",
      "/usr/local/lib/python3.9/site-packages/sklearn/svm/_base.py:1206: ConvergenceWarning: Liblinear failed to converge, increase the number of iterations.\n",
      "  warnings.warn(\n",
      "/usr/local/lib/python3.9/site-packages/sklearn/svm/_base.py:1206: ConvergenceWarning: Liblinear failed to converge, increase the number of iterations.\n",
      "  warnings.warn(\n",
      "[Parallel(n_jobs=-1)]: Done  15 out of  50 | elapsed:   12.6s remaining:   29.3s\n",
      "/usr/local/lib/python3.9/site-packages/sklearn/svm/_base.py:1206: ConvergenceWarning: Liblinear failed to converge, increase the number of iterations.\n",
      "  warnings.warn(\n",
      "/usr/local/lib/python3.9/site-packages/sklearn/svm/_base.py:1206: ConvergenceWarning: Liblinear failed to converge, increase the number of iterations.\n",
      "  warnings.warn(\n",
      "/usr/local/lib/python3.9/site-packages/sklearn/svm/_base.py:1206: ConvergenceWarning: Liblinear failed to converge, increase the number of iterations.\n",
      "  warnings.warn(\n",
      "[Parallel(n_jobs=-1)]: Done  21 out of  50 | elapsed:   15.7s remaining:   21.7s\n",
      "/usr/local/lib/python3.9/site-packages/sklearn/svm/_base.py:1206: ConvergenceWarning: Liblinear failed to converge, increase the number of iterations.\n",
      "  warnings.warn(\n",
      "/usr/local/lib/python3.9/site-packages/sklearn/svm/_base.py:1206: ConvergenceWarning: Liblinear failed to converge, increase the number of iterations.\n",
      "  warnings.warn(\n",
      "[Parallel(n_jobs=-1)]: Done  27 out of  50 | elapsed:   20.4s remaining:   17.4s\n",
      "/usr/local/lib/python3.9/site-packages/sklearn/svm/_base.py:1206: ConvergenceWarning: Liblinear failed to converge, increase the number of iterations.\n",
      "  warnings.warn(\n",
      "/usr/local/lib/python3.9/site-packages/sklearn/svm/_base.py:1206: ConvergenceWarning: Liblinear failed to converge, increase the number of iterations.\n",
      "  warnings.warn(\n",
      "/usr/local/lib/python3.9/site-packages/sklearn/svm/_base.py:1206: ConvergenceWarning: Liblinear failed to converge, increase the number of iterations.\n",
      "  warnings.warn(\n",
      "/usr/local/lib/python3.9/site-packages/sklearn/svm/_base.py:1206: ConvergenceWarning: Liblinear failed to converge, increase the number of iterations.\n",
      "  warnings.warn(\n",
      "/usr/local/lib/python3.9/site-packages/sklearn/svm/_base.py:1206: ConvergenceWarning: Liblinear failed to converge, increase the number of iterations.\n",
      "  warnings.warn(\n",
      "[Parallel(n_jobs=-1)]: Done  33 out of  50 | elapsed:   24.6s remaining:   12.7s\n",
      "/usr/local/lib/python3.9/site-packages/sklearn/svm/_base.py:1206: ConvergenceWarning: Liblinear failed to converge, increase the number of iterations.\n",
      "  warnings.warn(\n",
      "[Parallel(n_jobs=-1)]: Done  39 out of  50 | elapsed:   29.1s remaining:    8.2s\n",
      "/usr/local/lib/python3.9/site-packages/sklearn/svm/_base.py:1206: ConvergenceWarning: Liblinear failed to converge, increase the number of iterations.\n",
      "  warnings.warn(\n",
      "/usr/local/lib/python3.9/site-packages/sklearn/svm/_base.py:1206: ConvergenceWarning: Liblinear failed to converge, increase the number of iterations.\n",
      "  warnings.warn(\n",
      "/usr/local/lib/python3.9/site-packages/sklearn/svm/_base.py:1206: ConvergenceWarning: Liblinear failed to converge, increase the number of iterations.\n",
      "  warnings.warn(\n",
      "/usr/local/lib/python3.9/site-packages/sklearn/svm/_base.py:1206: ConvergenceWarning: Liblinear failed to converge, increase the number of iterations.\n",
      "  warnings.warn(\n",
      "/usr/local/lib/python3.9/site-packages/sklearn/svm/_base.py:1206: ConvergenceWarning: Liblinear failed to converge, increase the number of iterations.\n",
      "  warnings.warn(\n",
      "[Parallel(n_jobs=-1)]: Done  45 out of  50 | elapsed:   32.9s remaining:    3.7s\n",
      "/usr/local/lib/python3.9/site-packages/sklearn/svm/_base.py:1206: ConvergenceWarning: Liblinear failed to converge, increase the number of iterations.\n",
      "  warnings.warn(\n",
      "/usr/local/lib/python3.9/site-packages/sklearn/svm/_base.py:1206: ConvergenceWarning: Liblinear failed to converge, increase the number of iterations.\n",
      "  warnings.warn(\n",
      "/usr/local/lib/python3.9/site-packages/sklearn/svm/_base.py:1206: ConvergenceWarning: Liblinear failed to converge, increase the number of iterations.\n",
      "  warnings.warn(\n",
      "/usr/local/lib/python3.9/site-packages/sklearn/svm/_base.py:1206: ConvergenceWarning: Liblinear failed to converge, increase the number of iterations.\n",
      "  warnings.warn(\n",
      "/usr/local/lib/python3.9/site-packages/sklearn/svm/_base.py:1206: ConvergenceWarning: Liblinear failed to converge, increase the number of iterations.\n",
      "  warnings.warn(\n",
      "[Parallel(n_jobs=-1)]: Done  50 out of  50 | elapsed:   35.3s finished\n"
     ]
    }
   ],
   "source": [
    "from sklearn.model_selection import validation_curve, learning_curve\n",
    "\n",
    "param_range = np.logspace (-2, 2, 10)\n",
    "train_scores, valid_scores = validation_curve(LinearSVC(), x_train, y_train, param_name='C', param_range=param_range, cv=5, n_jobs=-1, verbose=10)"
   ]
  },
  {
   "cell_type": "code",
   "execution_count": 14,
   "metadata": {},
   "outputs": [],
   "source": [
    "mean_train_scores = np.mean(train_scores, axis=1)\n",
    "std_train_scores = np.std(train_scores, axis=1)\n",
    "mean_valid_scores = np.mean(valid_scores, axis=1)\n",
    "std_valid_scores = np.std(valid_scores, axis=1)"
   ]
  },
  {
   "cell_type": "code",
   "execution_count": 15,
   "metadata": {},
   "outputs": [
    {
     "data": {
      "image/png": "[encoded data removed]",
      "text/plain": [
       "<Figure size 432x288 with 1 Axes>"
      ]
     },
     "metadata": {
      "needs_background": "light"
     },
     "output_type": "display_data"
    },
    {
     "data": {
      "text/plain": [
       "35.93813663804626"
      ]
     },
     "execution_count": 15,
     "metadata": {},
     "output_type": "execute_result"
    },
    {
     "name": "stdout",
     "output_type": "stream",
     "text": [
      "[CV] START C=0.027825594022071243...............................................\n",
      "[CV] END C=0.027825594022071243;, score=(train=0.685, test=0.652) total time=   0.4s\n",
      "[CV] START C=100.0..............................................................\n",
      "[CV] END ...........C=100.0;, score=(train=0.675, test=0.636) total time=  10.9s\n",
      "[CV] START C=0.5994842503189409.................................................\n",
      "[CV] END C=0.5994842503189409;, score=(train=0.706, test=0.669) total time=   3.7s\n",
      "[CV] START C=100.0..............................................................\n",
      "[CV] END ...........C=100.0;, score=(train=0.686, test=0.662) total time=  10.3s\n",
      "[CV] START C=0.5994842503189409.................................................\n",
      "[CV] END C=0.5994842503189409;, score=(train=0.710, test=0.670) total time=   4.9s\n",
      "[CV] START C=12.915496650148826.................................................\n",
      "[CV] END C=12.915496650148826;, score=(train=0.707, test=0.676) total time=  10.4s\n",
      "[CV] START C=0.01...............................................................\n",
      "[CV] END ............C=0.01;, score=(train=0.661, test=0.644) total time=   0.3s\n",
      "[CV] START C=0.027825594022071243...............................................\n",
      "[CV] END C=0.027825594022071243;, score=(train=0.683, test=0.658) total time=   0.3s\n",
      "[CV] START C=0.21544346900318834................................................\n",
      "[CV] END C=0.21544346900318834;, score=(train=0.705, test=0.668) total time=   1.5s\n",
      "[CV] START C=4.6415888336127775.................................................\n",
      "[CV] END C=4.6415888336127775;, score=(train=0.707, test=0.672) total time=   8.0s\n",
      "[CV] START C=35.93813663804626..................................................\n",
      "[CV] END C=35.93813663804626;, score=(train=0.701, test=0.670) total time=  10.2s\n",
      "[CV] START C=0.21544346900318834................................................\n",
      "[CV] END C=0.21544346900318834;, score=(train=0.705, test=0.671) total time=   1.6s\n",
      "[CV] START C=0.21544346900318834................................................\n",
      "[CV] END C=0.21544346900318834;, score=(train=0.703, test=0.682) total time=   1.3s\n",
      "[CV] START C=1.6681005372000592.................................................\n",
      "[CV] END C=1.6681005372000592;, score=(train=0.705, test=0.683) total time=  10.1s\n",
      "[CV] START C=12.915496650148826.................................................\n",
      "[CV] END C=12.915496650148826;, score=(train=0.706, test=0.668) total time=   8.1s\n",
      "[CV] START C=100.0..............................................................\n",
      "[CV] END ...........C=100.0;, score=(train=0.670, test=0.639) total time=  10.2s\n",
      "[CV] START C=1.6681005372000592.................................................\n",
      "[CV] END C=1.6681005372000592;, score=(train=0.707, test=0.675) total time=   9.9s\n",
      "[CV] START C=35.93813663804626..................................................\n",
      "[CV] END C=35.93813663804626;, score=(train=0.703, test=0.683) total time=   8.8s\n",
      "[CV] START C=0.5994842503189409.................................................\n",
      "[CV] END C=0.5994842503189409;, score=(train=0.706, test=0.672) total time=   5.8s\n",
      "[CV] START C=0.0774263682681127.................................................\n",
      "[CV] END C=0.0774263682681127;, score=(train=0.700, test=0.660) total time=   0.9s\n",
      "[CV] START C=1.6681005372000592.................................................\n",
      "[CV] END C=1.6681005372000592;, score=(train=0.710, test=0.672) total time=   6.5s\n",
      "[CV] START C=0.5994842503189409.................................................\n",
      "[CV] END C=0.5994842503189409;, score=(train=0.708, test=0.674) total time=   4.0s\n",
      "[CV] START C=4.6415888336127775.................................................\n",
      "[CV] END C=4.6415888336127775;, score=(train=0.704, test=0.683) total time=  10.1s\n",
      "[CV] START C=35.93813663804626..................................................\n",
      "[CV] END C=35.93813663804626;, score=(train=0.706, test=0.669) total time=   8.8s\n",
      "[CV] START C=0.01...............................................................\n",
      "[CV] END ............C=0.01;, score=(train=0.660, test=0.638) total time=   0.7s\n",
      "[CV] START C=0.027825594022071243...............................................\n",
      "[CV] END C=0.027825594022071243;, score=(train=0.682, test=0.649) total time=   1.4s\n",
      "[CV] START C=0.21544346900318834................................................\n",
      "[CV] END C=0.21544346900318834;, score=(train=0.708, test=0.668) total time=   2.4s\n",
      "[CV] START C=4.6415888336127775.................................................\n",
      "[CV] END C=4.6415888336127775;, score=(train=0.710, test=0.671) total time=   5.3s\n",
      "[CV] START C=4.6415888336127775.................................................\n",
      "[CV] END C=4.6415888336127775;, score=(train=0.707, test=0.674) total time=  10.0s\n",
      "[CV] START C=100.0..............................................................\n",
      "[CV] END ...........C=100.0;, score=(train=0.682, test=0.665) total time=   9.0s\n",
      "[CV] START C=1.6681005372000592.................................................\n",
      "[CV] END C=1.6681005372000592;, score=(train=0.708, test=0.672) total time=   9.8s\n",
      "[CV] START C=12.915496650148826.................................................\n",
      "[CV] END C=12.915496650148826;, score=(train=0.710, test=0.673) total time=   4.4s\n",
      "[CV] START C=0.0774263682681127.................................................\n",
      "[CV] END C=0.0774263682681127;, score=(train=0.698, test=0.666) total time=   0.6s\n",
      "[CV] START C=0.01...............................................................\n",
      "[CV] END ............C=0.01;, score=(train=0.658, test=0.650) total time=   0.3s\n",
      "[CV] START C=0.027825594022071243...............................................\n",
      "[CV] END C=0.027825594022071243;, score=(train=0.677, test=0.665) total time=   0.3s\n",
      "[CV] START C=0.0774263682681127.................................................\n",
      "[CV] END C=0.0774263682681127;, score=(train=0.695, test=0.674) total time=   0.5s\n",
      "[CV] START C=0.5994842503189409.................................................\n",
      "[CV] END C=0.5994842503189409;, score=(train=0.704, test=0.682) total time=   4.4s\n",
      "[CV] START C=12.915496650148826.................................................\n",
      "[CV] END C=12.915496650148826;, score=(train=0.705, test=0.682) total time=   9.6s\n",
      "[CV] START C=0.01...............................................................\n",
      "[CV] END ............C=0.01;, score=(train=0.661, test=0.642) total time=   0.2s\n",
      "[CV] START C=0.027825594022071243...............................................\n",
      "[CV] END C=0.027825594022071243;, score=(train=0.682, test=0.658) total time=   0.3s\n",
      "[CV] START C=0.0774263682681127.................................................\n",
      "[CV] END C=0.0774263682681127;, score=(train=0.696, test=0.666) total time=   0.8s\n",
      "[CV] START C=0.21544346900318834................................................\n",
      "[CV] END C=0.21544346900318834;, score=(train=0.704, test=0.671) total time=   1.8s\n",
      "[CV] START C=4.6415888336127775.................................................\n",
      "[CV] END C=4.6415888336127775;, score=(train=0.708, test=0.671) total time=   9.8s\n",
      "[CV] START C=35.93813663804626..................................................\n",
      "[CV] END C=35.93813663804626;, score=(train=0.707, test=0.677) total time=   4.3s\n",
      "[CV] START C=0.01...............................................................\n",
      "[CV] END ............C=0.01;, score=(train=0.663, test=0.643) total time=   0.2s\n",
      "[CV] START C=35.93813663804626..................................................\n",
      "[CV] END C=35.93813663804626;, score=(train=0.705, test=0.673) total time=  10.8s\n",
      "[CV] START C=0.0774263682681127.................................................\n",
      "[CV] END C=0.0774263682681127;, score=(train=0.699, test=0.662) total time=   0.6s\n",
      "[CV] START C=1.6681005372000592.................................................\n",
      "[CV] END C=1.6681005372000592;, score=(train=0.706, test=0.671) total time=   7.9s\n",
      "[CV] START C=12.915496650148826.................................................\n",
      "[CV] END C=12.915496650148826;, score=(train=0.707, test=0.671) total time=  10.1s\n",
      "[CV] START C=100.0..............................................................\n",
      "[CV] END ...........C=100.0;, score=(train=0.684, test=0.649) total time=   4.0s\n"
     ]
    }
   ],
   "source": [
    "plt.semilogx(param_range, mean_train_scores, label=\"Training score\", color='red')\n",
    "plt.fill_between(param_range, mean_train_scores - std_train_scores,\n",
    "                 mean_train_scores + std_train_scores, alpha=0.2, color=\"red\")\n",
    "\n",
    "plt.semilogx (param_range, mean_valid_scores, label=\"cross validation score\", color='blue')\n",
    "plt.fill_between(param_range, mean_valid_scores - std_valid_scores,\n",
    "mean_valid_scores + std_valid_scores, alpha=0.2, color=\"blue\")\n",
    "\n",
    "plt.legend(loc='best')\n",
    "plt.title (\"Validation curve for hyperparameter C in LinearSVC\")\n",
    "plt.xlabel(\"C in log scale\")\n",
    "plt.ylabel(\"Accuracy\")\n",
    "plt.show()\n",
    "\n",
    "best_C = param_range[mean_valid_scores.argmax()]\n",
    "best_C"
   ]
  },
  {
   "cell_type": "code",
   "execution_count": null,
   "metadata": {},
   "outputs": [],
   "source": []
  },
  {
   "cell_type": "markdown",
   "metadata": {},
   "source": [
    "LinearSVC Accuracy: 0.6945133577084409 time: 21.55633020401001\n",
    "Decision Tree Accuracy: 0.5752541067569892 time: 19.278117895126343\n",
    "KNN Accuracy: 0.5883426048466088 time: 8.98024296760559\n",
    "Logistic Regression Accuracy: 0.6947573330940685 time: 8.795934200286865\n",
    "LinearSVC Accuracy: 0.6219077864031992 time: 5.772023916244507\n",
    "Decision Tree Accuracy: 0.5573330644890279 time: 3.5276641845703125\n",
    "KNN Accuracy: 0.5808139261350271 time: 0.9412939548492432\n",
    "Logistic Regression Accuracy: 0.6389673018113387 time: 3.9775428771972656"
   ]
  },
  {
   "cell_type": "code",
   "execution_count": null,
   "metadata": {},
   "outputs": [],
   "source": [
    "lr = LogisticRegression(C=1, multi_class='ovr').fit(x_train, y_train)\n",
    "# specify solver and multi_class to avoid warning (or update..\n",
    "cross_val_score (lr, x_train, y_train, cv=5). mean,lr.score(x_test, y_test)"
   ]
  },
  {
   "cell_type": "code",
   "execution_count": 37,
   "metadata": {},
   "outputs": [
    {
     "name": "stdout",
     "output_type": "stream",
     "text": [
      "Performing grid search...\n",
      "parameters:\n",
      "{'C': [0.01, 0.1, 0.5, 1, 5, 10, 100], 'multi_class': ['multinomial', 'ovr']}\n",
      "Fitting 5 folds for each of 14 candidates, totalling 70 fits\n",
      "[CV 1/5; 1/14] START C=0.01, multi_class=multinomial............................\n",
      "[CV 1/5; 1/14] END C=0.01, multi_class=multinomial;, score=0.607 total time=   0.1s\n",
      "[CV 2/5; 1/14] START C=0.01, multi_class=multinomial............................\n",
      "[CV 2/5; 1/14] END C=0.01, multi_class=multinomial;, score=0.608 total time=   0.1s\n",
      "[CV 3/5; 1/14] START C=0.01, multi_class=multinomial............................\n",
      "[CV 3/5; 1/14] END C=0.01, multi_class=multinomial;, score=0.611 total time=   0.1s\n",
      "[CV 4/5; 1/14] START C=0.01, multi_class=multinomial............................\n",
      "[CV 4/5; 1/14] END C=0.01, multi_class=multinomial;, score=0.609 total time=   0.1s\n",
      "[CV 5/5; 1/14] START C=0.01, multi_class=multinomial............................\n",
      "[CV 5/5; 1/14] END C=0.01, multi_class=multinomial;, score=0.615 total time=   0.1s\n",
      "[CV 1/5; 2/14] START C=0.01, multi_class=ovr....................................\n",
      "[CV 1/5; 2/14] END .....C=0.01, multi_class=ovr;, score=0.594 total time=   0.1s\n",
      "[CV 2/5; 2/14] START C=0.01, multi_class=ovr....................................\n",
      "[CV 2/5; 2/14] END .....C=0.01, multi_class=ovr;, score=0.600 total time=   0.0s\n",
      "[CV 3/5; 2/14] START C=0.01, multi_class=ovr....................................\n",
      "[CV 3/5; 2/14] END .....C=0.01, multi_class=ovr;, score=0.600 total time=   0.1s\n",
      "[CV 4/5; 2/14] START C=0.01, multi_class=ovr....................................\n",
      "[CV 4/5; 2/14] END .....C=0.01, multi_class=ovr;, score=0.600 total time=   0.0s\n",
      "[CV 5/5; 2/14] START C=0.01, multi_class=ovr....................................\n",
      "[CV 5/5; 2/14] END .....C=0.01, multi_class=ovr;, score=0.605 total time=   0.0s\n",
      "[CV 1/5; 3/14] START C=0.1, multi_class=multinomial.............................\n",
      "[CV 1/5; 3/14] END C=0.1, multi_class=multinomial;, score=0.642 total time=   0.1s\n",
      "[CV 2/5; 3/14] START C=0.1, multi_class=multinomial.............................\n",
      "[CV 2/5; 3/14] END C=0.1, multi_class=multinomial;, score=0.658 total time=   0.1s\n",
      "[CV 3/5; 3/14] START C=0.1, multi_class=multinomial.............................\n",
      "[CV 3/5; 3/14] END C=0.1, multi_class=multinomial;, score=0.669 total time=   0.1s\n",
      "[CV 4/5; 3/14] START C=0.1, multi_class=multinomial.............................\n",
      "[CV 4/5; 3/14] END C=0.1, multi_class=multinomial;, score=0.631 total time=   0.1s\n",
      "[CV 5/5; 3/14] START C=0.1, multi_class=multinomial.............................\n",
      "[CV 5/5; 3/14] END C=0.1, multi_class=multinomial;, score=0.671 total time=   0.1s\n",
      "[CV 1/5; 4/14] START C=0.1, multi_class=ovr.....................................\n",
      "[CV 1/5; 4/14] END ......C=0.1, multi_class=ovr;, score=0.637 total time=   0.1s\n",
      "[CV 2/5; 4/14] START C=0.1, multi_class=ovr.....................................\n",
      "[CV 2/5; 4/14] END ......C=0.1, multi_class=ovr;, score=0.643 total time=   0.1s\n",
      "[CV 3/5; 4/14] START C=0.1, multi_class=ovr.....................................\n",
      "[CV 3/5; 4/14] END ......C=0.1, multi_class=ovr;, score=0.651 total time=   0.1s\n",
      "[CV 4/5; 4/14] START C=0.1, multi_class=ovr.....................................\n",
      "[CV 4/5; 4/14] END ......C=0.1, multi_class=ovr;, score=0.619 total time=   0.1s\n",
      "[CV 5/5; 4/14] START C=0.1, multi_class=ovr.....................................\n",
      "[CV 5/5; 4/14] END ......C=0.1, multi_class=ovr;, score=0.657 total time=   0.1s\n",
      "[CV 1/5; 5/14] START C=0.5, multi_class=multinomial.............................\n",
      "[CV 1/5; 5/14] END C=0.5, multi_class=multinomial;, score=0.659 total time=   0.2s\n",
      "[CV 2/5; 5/14] START C=0.5, multi_class=multinomial.............................\n",
      "[CV 2/5; 5/14] END C=0.5, multi_class=multinomial;, score=0.670 total time=   0.2s\n",
      "[CV 3/5; 5/14] START C=0.5, multi_class=multinomial.............................\n",
      "[CV 3/5; 5/14] END C=0.5, multi_class=multinomial;, score=0.687 total time=   0.3s\n",
      "[CV 4/5; 5/14] START C=0.5, multi_class=multinomial.............................\n",
      "[CV 4/5; 5/14] END C=0.5, multi_class=multinomial;, score=0.644 total time=   0.3s\n",
      "[CV 5/5; 5/14] START C=0.5, multi_class=multinomial.............................\n",
      "[CV 5/5; 5/14] END C=0.5, multi_class=multinomial;, score=0.674 total time=   0.3s\n",
      "[CV 1/5; 6/14] START C=0.5, multi_class=ovr.....................................\n",
      "[CV 1/5; 6/14] END ......C=0.5, multi_class=ovr;, score=0.655 total time=   0.2s\n",
      "[CV 2/5; 6/14] START C=0.5, multi_class=ovr.....................................\n",
      "[CV 2/5; 6/14] END ......C=0.5, multi_class=ovr;, score=0.665 total time=   0.2s\n",
      "[CV 3/5; 6/14] START C=0.5, multi_class=ovr.....................................\n",
      "[CV 3/5; 6/14] END ......C=0.5, multi_class=ovr;, score=0.684 total time=   0.2s\n",
      "[CV 4/5; 6/14] START C=0.5, multi_class=ovr.....................................\n",
      "[CV 4/5; 6/14] END ......C=0.5, multi_class=ovr;, score=0.635 total time=   0.2s\n",
      "[CV 5/5; 6/14] START C=0.5, multi_class=ovr.....................................\n",
      "[CV 5/5; 6/14] END ......C=0.5, multi_class=ovr;, score=0.675 total time=   0.2s\n",
      "[CV 1/5; 7/14] START C=1, multi_class=multinomial...............................\n",
      "[CV 1/5; 7/14] END C=1, multi_class=multinomial;, score=0.658 total time=   0.2s\n",
      "[CV 2/5; 7/14] START C=1, multi_class=multinomial...............................\n",
      "[CV 2/5; 7/14] END C=1, multi_class=multinomial;, score=0.672 total time=   0.2s\n",
      "[CV 3/5; 7/14] START C=1, multi_class=multinomial...............................\n",
      "[CV 3/5; 7/14] END C=1, multi_class=multinomial;, score=0.685 total time=   0.2s\n",
      "[CV 4/5; 7/14] START C=1, multi_class=multinomial...............................\n",
      "[CV 4/5; 7/14] END C=1, multi_class=multinomial;, score=0.641 total time=   0.2s\n",
      "[CV 5/5; 7/14] START C=1, multi_class=multinomial...............................\n",
      "[CV 5/5; 7/14] END C=1, multi_class=multinomial;, score=0.677 total time=   0.2s\n",
      "[CV 1/5; 8/14] START C=1, multi_class=ovr.......................................\n",
      "[CV 1/5; 8/14] END ........C=1, multi_class=ovr;, score=0.661 total time=   0.2s\n",
      "[CV 2/5; 8/14] START C=1, multi_class=ovr.......................................\n",
      "[CV 2/5; 8/14] END ........C=1, multi_class=ovr;, score=0.672 total time=   0.2s\n",
      "[CV 3/5; 8/14] START C=1, multi_class=ovr.......................................\n",
      "[CV 3/5; 8/14] END ........C=1, multi_class=ovr;, score=0.691 total time=   0.2s\n",
      "[CV 4/5; 8/14] START C=1, multi_class=ovr.......................................\n",
      "[CV 4/5; 8/14] END ........C=1, multi_class=ovr;, score=0.639 total time=   0.2s\n",
      "[CV 5/5; 8/14] START C=1, multi_class=ovr.......................................\n",
      "[CV 5/5; 8/14] END ........C=1, multi_class=ovr;, score=0.677 total time=   0.3s\n",
      "[CV 1/5; 9/14] START C=5, multi_class=multinomial...............................\n",
      "[CV 1/5; 9/14] END C=5, multi_class=multinomial;, score=0.662 total time=   0.2s\n",
      "[CV 2/5; 9/14] START C=5, multi_class=multinomial...............................\n",
      "[CV 2/5; 9/14] END C=5, multi_class=multinomial;, score=0.667 total time=   0.2s\n",
      "[CV 3/5; 9/14] START C=5, multi_class=multinomial...............................\n",
      "[CV 3/5; 9/14] END C=5, multi_class=multinomial;, score=0.686 total time=   0.2s\n",
      "[CV 4/5; 9/14] START C=5, multi_class=multinomial...............................\n",
      "[CV 4/5; 9/14] END C=5, multi_class=multinomial;, score=0.641 total time=   0.2s\n",
      "[CV 5/5; 9/14] START C=5, multi_class=multinomial...............................\n",
      "[CV 5/5; 9/14] END C=5, multi_class=multinomial;, score=0.670 total time=   0.2s\n",
      "[CV 1/5; 10/14] START C=5, multi_class=ovr......................................\n",
      "[CV 1/5; 10/14] END .......C=5, multi_class=ovr;, score=0.661 total time=   0.2s\n",
      "[CV 2/5; 10/14] START C=5, multi_class=ovr......................................\n",
      "[CV 2/5; 10/14] END .......C=5, multi_class=ovr;, score=0.668 total time=   0.2s\n",
      "[CV 3/5; 10/14] START C=5, multi_class=ovr......................................\n",
      "[CV 3/5; 10/14] END .......C=5, multi_class=ovr;, score=0.688 total time=   0.3s\n",
      "[CV 4/5; 10/14] START C=5, multi_class=ovr......................................\n",
      "[CV 4/5; 10/14] END .......C=5, multi_class=ovr;, score=0.638 total time=   0.2s\n",
      "[CV 5/5; 10/14] START C=5, multi_class=ovr......................................\n"
     ]
    },
    {
     "name": "stdout",
     "output_type": "stream",
     "text": [
      "[CV 5/5; 10/14] END .......C=5, multi_class=ovr;, score=0.672 total time=   0.2s\n",
      "[CV 1/5; 11/14] START C=10, multi_class=multinomial.............................\n",
      "[CV 1/5; 11/14] END C=10, multi_class=multinomial;, score=0.661 total time=   0.2s\n",
      "[CV 2/5; 11/14] START C=10, multi_class=multinomial.............................\n",
      "[CV 2/5; 11/14] END C=10, multi_class=multinomial;, score=0.667 total time=   0.2s\n",
      "[CV 3/5; 11/14] START C=10, multi_class=multinomial.............................\n",
      "[CV 3/5; 11/14] END C=10, multi_class=multinomial;, score=0.680 total time=   0.2s\n",
      "[CV 4/5; 11/14] START C=10, multi_class=multinomial.............................\n",
      "[CV 4/5; 11/14] END C=10, multi_class=multinomial;, score=0.635 total time=   0.2s\n",
      "[CV 5/5; 11/14] START C=10, multi_class=multinomial.............................\n",
      "[CV 5/5; 11/14] END C=10, multi_class=multinomial;, score=0.663 total time=   0.2s\n",
      "[CV 1/5; 12/14] START C=10, multi_class=ovr.....................................\n",
      "[CV 1/5; 12/14] END ......C=10, multi_class=ovr;, score=0.660 total time=   0.2s\n",
      "[CV 2/5; 12/14] START C=10, multi_class=ovr.....................................\n",
      "[CV 2/5; 12/14] END ......C=10, multi_class=ovr;, score=0.667 total time=   0.2s\n",
      "[CV 3/5; 12/14] START C=10, multi_class=ovr.....................................\n",
      "[CV 3/5; 12/14] END ......C=10, multi_class=ovr;, score=0.690 total time=   0.2s\n",
      "[CV 4/5; 12/14] START C=10, multi_class=ovr.....................................\n",
      "[CV 4/5; 12/14] END ......C=10, multi_class=ovr;, score=0.635 total time=   0.2s\n",
      "[CV 5/5; 12/14] START C=10, multi_class=ovr.....................................\n",
      "[CV 5/5; 12/14] END ......C=10, multi_class=ovr;, score=0.666 total time=   0.2s\n",
      "[CV 1/5; 13/14] START C=100, multi_class=multinomial............................\n",
      "[CV 1/5; 13/14] END C=100, multi_class=multinomial;, score=0.658 total time=   0.2s\n",
      "[CV 2/5; 13/14] START C=100, multi_class=multinomial............................\n",
      "[CV 2/5; 13/14] END C=100, multi_class=multinomial;, score=0.659 total time=   0.2s\n",
      "[CV 3/5; 13/14] START C=100, multi_class=multinomial............................\n",
      "[CV 3/5; 13/14] END C=100, multi_class=multinomial;, score=0.677 total time=   0.2s\n",
      "[CV 4/5; 13/14] START C=100, multi_class=multinomial............................\n",
      "[CV 4/5; 13/14] END C=100, multi_class=multinomial;, score=0.635 total time=   0.2s\n",
      "[CV 5/5; 13/14] START C=100, multi_class=multinomial............................\n",
      "[CV 5/5; 13/14] END C=100, multi_class=multinomial;, score=0.662 total time=   0.2s\n",
      "[CV 1/5; 14/14] START C=100, multi_class=ovr....................................\n",
      "[CV 1/5; 14/14] END .....C=100, multi_class=ovr;, score=0.659 total time=   0.2s\n",
      "[CV 2/5; 14/14] START C=100, multi_class=ovr....................................\n",
      "[CV 2/5; 14/14] END .....C=100, multi_class=ovr;, score=0.665 total time=   0.2s\n",
      "[CV 3/5; 14/14] START C=100, multi_class=ovr....................................\n",
      "[CV 3/5; 14/14] END .....C=100, multi_class=ovr;, score=0.687 total time=   0.2s\n",
      "[CV 4/5; 14/14] START C=100, multi_class=ovr....................................\n",
      "[CV 4/5; 14/14] END .....C=100, multi_class=ovr;, score=0.640 total time=   0.2s\n",
      "[CV 5/5; 14/14] START C=100, multi_class=ovr....................................\n",
      "[CV 5/5; 14/14] END .....C=100, multi_class=ovr;, score=0.662 total time=   0.2s\n",
      "Best score: 40. 3f\n",
      "Best parameters set:\n",
      "\tC: 1\n",
      "\tmulti_class: 'ovr'\n"
     ]
    }
   ],
   "source": [
    "from sklearn.model_selection import GridSearchCV\n",
    "param_lr = {'C': [0.01, 0.1, 0.5, 1, 5, 10, 100],\n",
    "            'multi_class':['multinomial','ovr'],\n",
    "           }\n",
    "gs_lr = GridSearchCV(LogisticRegression(),param_lr,cv=5, n_jobs=1, verbose=11)\n",
    "print (\"Performing grid search...\")\n",
    "print (\"parameters:\")\n",
    "print (param_lr)\n",
    "    \n",
    "gs_lr.fit(x_test,y_test)\n",
    "print (\"Best score: 40. 3f\" % gs_lr.best_score_)\n",
    "print (\"Best parameters set:\")\n",
    "           \n",
    "best_param_lr = gs_lr.best_estimator_.get_params()\n",
    "    \n",
    "for param_name in sorted (param_lr.keys()) :\n",
    "    print (\"\\t%s: %r\" % (param_name, best_param_lr[param_name]))"
   ]
  },
  {
   "cell_type": "code",
   "execution_count": 38,
   "metadata": {},
   "outputs": [
    {
     "data": {
      "image/png": "[encoded data removed]",
      "text/plain": [
       "<Figure size 432x288 with 2 Axes>"
      ]
     },
     "metadata": {
      "needs_background": "light"
     },
     "output_type": "display_data"
    }
   ],
   "source": [
    "lr_scores = gs_lr.cv_results_['mean_test_score'].reshape(7,2)\n",
    "sns.heatmap(lr_scores, xticklabels = param_lr['multi_class'], yticklabels=param_lr['C'], cmap='Blues')\n",
    "\n",
    "b, t= plt. ylim() # discover the values for bottom and top\n",
    "b += 0.5 # Add 0.5 to the bottom\n",
    "t -= 0.5 # Subtract 0.5 from the top\n",
    "plt. ylim(b, t) # update the ylim(bottom, top) values\n",
    "plt. title (\"Grid Search results of Logistic Regression\")\n",
    "plt.xlabel (\"multi class\")\n",
    "plt.ylabel (\"C\")\n",
    "plt.show ()"
   ]
  },
  {
   "cell_type": "code",
   "execution_count": 44,
   "metadata": {},
   "outputs": [
    {
     "name": "stdout",
     "output_type": "stream",
     "text": [
      "              precision    recall  f1-score   support\n",
      "\n",
      "    negative       0.62      0.33      0.43      1099\n",
      "     neutral       0.68      0.87      0.76      3848\n",
      "    positive       0.67      0.45      0.54      1594\n",
      "\n",
      "    accuracy                           0.67      6541\n",
      "   macro avg       0.66      0.55      0.58      6541\n",
      "weighted avg       0.67      0.67      0.65      6541\n",
      "\n",
      "[[ 359  703   37]\n",
      " [ 205 3331  312]\n",
      " [  18  854  722]]\n"
     ]
    },
    {
     "data": {
      "text/plain": [
       "Text(33.0, 0.5, 'Actual classes')"
      ]
     },
     "execution_count": 44,
     "metadata": {},
     "output_type": "execute_result"
    },
    {
     "data": {
      "image/png": "[encoded data removed]",
      "text/plain": [
       "<Figure size 432x288 with 2 Axes>"
      ]
     },
     "metadata": {
      "needs_background": "light"
     },
     "output_type": "display_data"
    }
   ],
   "source": [
    "# logistic heatmap\n",
    "lr = LogisticRegression(C=1).fit(x_train, y_train)\n",
    "lr_pred = lr.predict(x_test)\n",
    "\n",
    "matrix_lr = confusion_matrix(y_test, lr_pred)\n",
    "print(classification_report(y_test, lr_pred))\n",
    "print(matrix_lr)\n",
    "sns.heatmap(matrix_lr, cmap = 'Blues', annot = True, fmt = 'd')\n",
    "plt.title(\"Logistic Regression confusion matrix and heatmap\")\n",
    "plt.xlabel (\"Predicted classes\")\n",
    "plt.ylabel (\"Actual classes\")"
   ]
  },
  {
   "cell_type": "markdown",
   "metadata": {},
   "source": [
    "### Ensemble models"
   ]
  },
  {
   "cell_type": "code",
   "execution_count": 22,
   "metadata": {},
   "outputs": [
    {
     "name": "stdout",
     "output_type": "stream",
     "text": [
      "voting accuracy\n"
     ]
    },
    {
     "data": {
      "text/plain": [
       "(0.6777410355025394, 0.673291545635224)"
      ]
     },
     "execution_count": 22,
     "metadata": {},
     "output_type": "execute_result"
    }
   ],
   "source": [
    "from sklearn.ensemble import BaggingClassifier\n",
    "from sklearn.ensemble import VotingClassifier\n",
    "from sklearn.ensemble import RandomForestClassifier\n",
    "from sklearn.ensemble import AdaBoostClassifier, GradientBoostingClassifier\n",
    "from sklearn.linear_model import SGDClassifier\n",
    "\n",
    "\n",
    "#voting\n",
    "base_classifiers = [('sgd', SGDClassifier()),\n",
    "                    ('dt', DecisionTreeClassifier()),\n",
    "                    ('lr', LogisticRegression(C=1, multi_class='multinomial')),\n",
    "                    ('mnb' , MultinomialNB()),\n",
    "                    (' svc', LinearSVC(C=10))]\n",
    "voting = VotingClassifier(estimators=base_classifiers, voting='hard')\n",
    "voting.fit(x_train, y_train)\n",
    "print(\"voting accuracy\")\n",
    "cross_val_score(voting, x_train, y_train, cv=5).mean(),voting.score(x_test, y_test)\n"
   ]
  },
  {
   "cell_type": "code",
   "execution_count": null,
   "metadata": {},
   "outputs": [],
   "source": [
    "# bagging\n",
    "DT = DecisionTreeClassifier()\n",
    "bagging_one = BaggingClassifier(base_estimator=DecisionTreeClassifier(),n_estimators=10,\\\n",
    "                              max_samples=1.0, max_features=1.0)\n",
    "bagging_two = BaggingClassifier(base_estimator=DecisionTreeClassifier(),n_estimators=10,\\\n",
    "                              max_samples=0.5, max_features=1.0)\n",
    "bagging_three = BaggingClassifier(base_estimator=DecisionTreeClassifier(),n_estimators=10,\\\n",
    "                              max_samples=0.5, max_features=0.5)\n",
    "\n",
    "DT.fit(x_train,y_train)\n",
    "bagging_one.fit(x_train,y_train)\n",
    "bagging_two.fit(x_train,y_train)\n",
    "bagging_three.fit(x_train,y_train)\n",
    "\n",
    "print(\"DT:\",DT.score(x_test,y_test))\n",
    "print(\"Option 1: bagging Accuracy:\",bagging_one.score(x_test,y_test))\n",
    "print(\"Option 2: bagging Accuracy:\",bagging_two.score(x_test,y_test))\n",
    "print(\"Option 3: bagging Accuracy:\",bagging_three.score(x_test,y_test))"
   ]
  },
  {
   "cell_type": "code",
   "execution_count": null,
   "metadata": {},
   "outputs": [],
   "source": [
    "from sklearn.ensemble import VotingClassifier\n",
    "#voting\n",
    "base_classifiers = [('sgd', SGDClassifier()),\n",
    "                    ('dt', DecisionTreeClassifier()),\n",
    "                    ('lr', LogisticRegression(C=0.5, multi_class='multinomial')),\n",
    "                    ('mnb' , MultinomialNB()),\n",
    "                    (' svc', LinearSVC(C=10))]\n",
    "voting = VotingClassifier(estimators=base_classifiers, voting='hard')\n",
    "\n",
    "voting.fit(kbest_train_X.todense(), Y_train)\n",
    "\n",
    "prediction = voting.predict(kbest_test_X.todense())\n",
    "#print(\"Stacker predict done\")\n",
    "\n",
    "print(prediction)\n",
    "pre = pd.DataFrame(prediction, columns=['sentiment'], index = test_data['id'])\n",
    "pre.index.name='id'\n",
    "pre.to_csv(r\"voting_prediction_cv.csv\")"
   ]
  },
  {
   "cell_type": "code",
   "execution_count": 72,
   "metadata": {},
   "outputs": [
    {
     "name": "stderr",
     "output_type": "stream",
     "text": [
      "[Parallel(n_jobs=-1)]: Using backend ThreadingBackend with 8 concurrent workers.\n",
      "[Parallel(n_jobs=-1)]: Done  34 tasks      | elapsed:    0.7s\n",
      "[Parallel(n_jobs=-1)]: Done 100 out of 100 | elapsed:    1.8s finished\n",
      "[Parallel(n_jobs=8)]: Using backend ThreadingBackend with 8 concurrent workers.\n",
      "[Parallel(n_jobs=8)]: Done  34 tasks      | elapsed:    0.0s\n",
      "[Parallel(n_jobs=8)]: Done 100 out of 100 | elapsed:    0.1s finished\n",
      "[Parallel(n_jobs=-1)]: Using backend ThreadingBackend with 8 concurrent workers.\n"
     ]
    },
    {
     "name": "stdout",
     "output_type": "stream",
     "text": [
      "0.6266483201467722\n"
     ]
    },
    {
     "name": "stderr",
     "output_type": "stream",
     "text": [
      "[Parallel(n_jobs=-1)]: Done   6 out of  10 | elapsed:    0.1s remaining:    0.1s\n",
      "[Parallel(n_jobs=-1)]: Done  10 out of  10 | elapsed:    0.2s finished\n",
      "[Parallel(n_jobs=8)]: Using backend ThreadingBackend with 8 concurrent workers.\n",
      "[Parallel(n_jobs=8)]: Done   6 out of  10 | elapsed:    0.0s remaining:    0.0s\n",
      "[Parallel(n_jobs=8)]: Done  10 out of  10 | elapsed:    0.0s finished\n",
      "[Parallel(n_jobs=8)]: Using backend ThreadingBackend with 8 concurrent workers.\n",
      "[Parallel(n_jobs=8)]: Done   6 out of  10 | elapsed:    0.0s remaining:    0.0s\n",
      "[Parallel(n_jobs=8)]: Done  10 out of  10 | elapsed:    0.0s finished\n"
     ]
    },
    {
     "name": "stdout",
     "output_type": "stream",
     "text": [
      "0.601880518289187\n",
      "[[ 349 1013  118]\n",
      " [ 383 4056  649]\n",
      " [  58 1251  844]]\n",
      "0.6320376103657838\n"
     ]
    },
    {
     "data": {
      "image/png": "[encoded data removed]",
      "text/plain": [
       "<Figure size 432x288 with 2 Axes>"
      ]
     },
     "metadata": {
      "needs_background": "light"
     },
     "output_type": "display_data"
    }
   ],
   "source": [
    "#random forest\n",
    "rf = RandomForestClassifier(n_jobs=-1, n_estimators=100, verbose=1).fit(x_train, y_train)\n",
    "print(rf.score(x_test, y_test))\n",
    "\n",
    "rf = RandomForestClassifier(n_jobs=-1, n_estimators=10, verbose=1).fit(x_train, y_train)\n",
    "print(rf.score(x_test, y_test))\n",
    "\n",
    "rf_pred = rf.predict(x_test)\n",
    "matrix_rf = confusion_matrix(y_test, rf_pred)\n",
    "\n",
    "print(matrix_rf)\n",
    "sns.heatmap(matrix_rf, cmap = 'Greens', annot = True, fmt = 'd')\n",
    "plt.title(\"Random Forest confusion matrix and heatmap\")\n",
    "plt.xlabel (\"Predicted classes\")\n",
    "plt.ylabel (\"Actual classes\")\n",
    "\n",
    "\n",
    "#ada\n",
    "ada = AdaBoostClassifier().fit(x_train,y_train)\n",
    "print(ada.score(x_test, y_test))"
   ]
  },
  {
   "cell_type": "code",
   "execution_count": 23,
   "metadata": {},
   "outputs": [],
   "source": [
    "# stacking code from prac 8\n",
    "np.random.seed(1)\n",
    "\n",
    "class StackingClassifier():\n",
    "\n",
    "    def __init__(self, classifiers, metaclassifier):\n",
    "        self.classifiers = classifiers\n",
    "        self.metaclassifier = metaclassifier\n",
    "\n",
    "    def fit(self, X, y):\n",
    "        for clf in self.classifiers:\n",
    "            clf.fit(X, y)\n",
    "        X_meta = self._predict_base(X)\n",
    "        self.metaclassifier.fit(X_meta, y)\n",
    "    \n",
    "    def _predict_base(self, X):\n",
    "        yhats = []\n",
    "        for clf in self.classifiers:\n",
    "            yhat = clf.predict_proba(X)\n",
    "            yhats.append(yhat)\n",
    "        yhats = np.concatenate(yhats, axis=1)\n",
    "        assert yhats.shape[0] == X.shape[0]\n",
    "        return yhats\n",
    "    \n",
    "    def predict(self, X):\n",
    "        X_meta = self._predict_base(X)     \n",
    "        yhat = self.metaclassifier.predict(X_meta)\n",
    "        return yhat\n",
    "    def score(self, X, y):\n",
    "        yhat = self.predict(X)\n",
    "        return accuracy_score(y, yhat)"
   ]
  },
  {
   "cell_type": "code",
   "execution_count": 25,
   "metadata": {},
   "outputs": [],
   "source": [
    "# base calssifier to be chosen # lr/multinomial\n",
    "classifiers = [('sgd', SGDClassifier()),\n",
    "                    ('dt', DecisionTreeClassifier()),\n",
    "                    ('lr', LogisticRegression(C=0.5, multi_class='multinomial')),\n",
    "                    ('mnb' , MultinomialNB()),\n",
    "                    (' svc', LinearSVC(C=10))]\n",
    "\n",
    "classifiers = [LogisticRegression(),\n",
    "               SGDClassifier(),\n",
    "               DecisionTreeClassifier(),\n",
    "               LinearSVC(C=10),\n",
    "                MultinomialNB()]\n",
    "titles = ['Logistic Regression',\n",
    "          'SGDC',\n",
    "          'dr',\n",
    "          'svc',\n",
    "          'Multinomial NB']\n",
    "# three meta classifiers\n",
    "meta_classifier_lr = LogisticRegression()\n",
    "stacker_lr = StackingClassifier(classifiers, meta_classifier_lr)\n",
    "\n",
    "meta_classifier_dt = DecisionTreeClassifier()\n",
    "stacker_dt = StackingClassifier(classifiers, meta_classifier_dt)\n",
    "\n",
    "meta_classifier_mnb = MultinomialNB()\n",
    "stacker_mnb = StackingClassifier(classifiers, meta_classifier_mnb)\n",
    "\n",
    "meta_classifier_svc = LinearSVC(C=10)\n",
    "stacker_svc = StackingClassifier(classifiers, meta_classifier_svc)"
   ]
  },
  {
   "cell_type": "code",
   "execution_count": null,
   "metadata": {},
   "outputs": [],
   "source": [
    "# base calssifier to be chosen # lr/multinomial\n",
    "classifiers = [LogisticRegression(),\n",
    "               #SVC(kernel = \"rbf\", gamma = 0.001, C=1000),\n",
    "               KNeighborsRegresson(n_neighbors=20,metric='euclidean'),\n",
    "                MultinomialNB()]\n",
    "titles = ['Logistic Regression',\n",
    "          'SVC',\n",
    "          'Multinomial NB']\n",
    "\n",
    "# three meta classifiers\n",
    "meta_classifier_lr = LogisticRegression(C=1)\n",
    "stacker_lr = StackingClassifier(classifiers, meta_classifier_lr)\n",
    "\n",
    "meta_classifier_dt = DecisionTreeClassifier()\n",
    "stacker_dt = StackingClassifier(classifiers, meta_classifier_dt)\n",
    "\n",
    "meta_classifier_mnb = MultinomialNB()\n",
    "stacker_mnb = StackingClassifier(classifiers, meta_classifier_mnb)\n",
    "\n",
    "meta_classifier_svc = LinearSVC(C=10)\n",
    "stacker_svc = StackingClassifier(classifiers, meta_classifier_svc)"
   ]
  },
  {
   "cell_type": "code",
   "execution_count": null,
   "metadata": {},
   "outputs": [],
   "source": [
    "start = time.time()\n",
    "print(\"im running\")\n",
    "stacker_lr.fit(x_train.todense(), y_train)\n",
    "end = time.time()\n",
    "t = end - start\n",
    "acc_lr = stacker_lr.score(x_test.todense(), y_test)\n",
    "print('\\nStacker Accuracy (Logistic Regression):', acc_lr, 'Time:', t)\n",
    "\n",
    "\n",
    "start = time.time()\n",
    "stacker_mnb.fit(x_train.todense(), y_train)\n",
    "end = time.time()\n",
    "t = end - start\n",
    "acc_mnb = stacker_mnb.score(x_test.todense(), y_test)\n",
    "print('\\nStacker Accuracy (Multinomial Regression):', acc_mnb, 'Time:', t)\n",
    "\n",
    "start = time.time()\n",
    "stacker_dt.fit(x_train.todense(), y_train)\n",
    "end = time.time()\n",
    "t = end - start\n",
    "acc_dt = stacker_dt.score(x_test.todense(), y_test)\n",
    "print('\\nStacker Accuracy (Decision Tree):', acc_dt, 'Time:', t)\n",
    "\n",
    "start = time.time()\n",
    "stacker_svc.fit(x_train.todense(), y_train)\n",
    "end = time.time()\n",
    "t = end - start\n",
    "acc_svc = stacker_svc.score(x_test.todense(), y_test)\n",
    "print('\\nStacker Accuracy (LinearSVC):', acc_svc, 'Time:', t)\n"
   ]
  },
  {
   "cell_type": "markdown",
   "metadata": {},
   "source": [
    "### Prediction"
   ]
  },
  {
   "cell_type": "code",
   "execution_count": 50,
   "metadata": {},
   "outputs": [
    {
     "name": "stdout",
     "output_type": "stream",
     "text": [
      "['negative' 'negative' 'neutral' ... 'neutral' 'positive' 'negative']\n",
      "['negative' 'negative' 'neutral' ... 'neutral' 'positive' 'negative']\n"
     ]
    }
   ],
   "source": [
    "\n",
    "stacker_lr.fit(kbest_train_X.todense(), Y_train)\n",
    "stacker_svc.fit(kbest_train_X.todense(), Y_train)\n",
    "\n",
    "prediction = stacker_svc.predict(kbest_test_X.todense())\n",
    "#print(\"Stacker predict done\")\n",
    "\n",
    "print(prediction)\n",
    "pre = pd.DataFrame(prediction, columns=['sentiment'], index = test_data['id'])\n",
    "pre.index.name='id'\n",
    "pre.to_csv(r\"svc_tfidf_prediction_cv.csv\")\n",
    "\n",
    "prediction = stacker_lr.predict(kbest_test_X.todense())\n",
    "#print(\"Stacker predict done\")\n",
    "print(prediction)\n",
    "pre = pd.DataFrame(prediction, columns=['sentiment'], index = test_data['id'])\n",
    "pre.index.name='id'\n",
    "pre.to_csv(r\"lr_tfidf_prediction_cv.csv\")"
   ]
  },
  {
   "cell_type": "code",
   "execution_count": null,
   "metadata": {},
   "outputs": [],
   "source": []
  },
  {
   "cell_type": "code",
   "execution_count": null,
   "metadata": {},
   "outputs": [],
   "source": []
  }
 ],
 "metadata": {
  "kernelspec": {
   "display_name": "Python 3 (ipykernel)",
   "language": "python",
   "name": "python3"
  },
  "language_info": {
   "codemirror_mode": {
    "name": "ipython",
    "version": 3
   },
   "file_extension": ".py",
   "mimetype": "text/x-python",
   "name": "python",
   "nbconvert_exporter": "python",
   "pygments_lexer": "ipython3",
   "version": "3.9.10"
  }
 },
 "nbformat": 4,
 "nbformat_minor": 4
}
